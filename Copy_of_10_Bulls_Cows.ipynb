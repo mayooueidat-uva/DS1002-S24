{
  "cells": [
    {
      "cell_type": "markdown",
      "metadata": {
        "id": "view-in-github",
        "colab_type": "text"
      },
      "source": [
        "<a href=\"https://colab.research.google.com/github/mayooueidat-uva/DS1002-S24/blob/main/Copy_of_10_Bulls_Cows.ipynb\" target=\"_parent\"><img src=\"https://colab.research.google.com/assets/colab-badge.svg\" alt=\"Open In Colab\"/></a>"
      ]
    },
    {
      "cell_type": "markdown",
      "metadata": {
        "id": "lSwr8T3SNrkj"
      },
      "source": [
        "## Bulls and Cows:\n",
        "### Another guessing game.\n",
        "### Assignment due Wednesday 10 April at 10 am\n",
        "\n",
        "General instructions:\n",
        "\n",
        "1. You may work in teams of up to three people.  As usual, if you do this, make sure all names are clearly displayed at the top of your submission, and all team members should submit the same GitHub URL.\n",
        "\n",
        "1. Use only basic Python code.  Do not use `numpy` arrays or functions.\n",
        "\n",
        "2. Practice utilizing the coding concepts we have studied.  \n",
        "\n",
        "3. Write docstrings for all your functions.\n",
        "\n"
      ]
    },
    {
      "cell_type": "markdown",
      "metadata": {
        "id": "qrWRyeI2NwHA"
      },
      "source": [
        "### Goal:  program this game\n",
        "In this assignment you will program a version of an old game called Bulls and Cows.  It is somewhat similar to Wordle, but with numbers instead of words (and various other differences . . . read carefully!).\n",
        "\n",
        "The game is played like this:  \n",
        "1. The computer will choose a secret code that the player is trying to guess.\n",
        "2. The secret code will be 4 digits long.  It will use only the digits 1-6, and it will have no repeated digits.  For example the secret code might be 1326 or 6241 but it cannot be 2652 or 4913 or 2601.\n",
        "3. The computer will prompt the user for a guess, and the user will guess.  The guess must follow the same rules (4 digits long, only use digits 1-6, no repeats).  The program should not allow an invalid guess.\n",
        "4. After each guess, the computer will give feedback to the user as follows:  \n",
        "(i) Each digit of the guess that is in the secret code and in the correct position is called a Bull (B).  \n",
        "(ii) Each digit of the guess that exists somewhere in the secret code, but *not* in the same position as in the guess, is called a Cow (C).  \n",
        "(iii) A digit of the guess that doesn't occur anywhere in the secret code is called a miss (X).  \n",
        "The computer will inform the user how many Bulls, how many Cows, and how many misses the user's guess had.  \n",
        "The feedback will always start with B's, then list C's, then list X's.  \n",
        "For example if the secret code is 1326  \n",
        "and the guess is 4316  \n",
        "then the computer should respond with \"BBCX\"  \n",
        "because there are two Bulls (the 3 and the 6 are Bulls, because they occur in the same position in the guess as in the secret code),  \n",
        "one Cow (the 1, which is a correct digit but in the wrong position),  \n",
        "and one Miss (the 4, which does not occur anywhere in the secret code).  \n",
        "> **Important:** the feedback string should always list the Bulls first, then the Cows, then the Misses.  It should **not** tell the user which digits are which!  The only information in the feedback string is how many of each there are.  In the example above, for instance, the feedback is **not** \"XBCB\" but rather \"BBCX\".  This is different from Wordle, if you are familiar with that game.\n",
        "5. The user should then be prompted for another guess.  This guess-with-feedback process should be repeated until the user gets the correct code, at which point the computer should indicate that they have won the game.  However, the user should only be allowed 6 guesses; if they don't guess correctly in 6 attempts, then following the feedback from their final guess they should get a message that they have lost the game, and the secret code should be revealed.\n",
        "\n",
        "\n",
        "\n",
        "\n",
        "\n",
        "\n",
        "\n"
      ]
    },
    {
      "cell_type": "code",
      "source": [
        "# waaaaaaaaaaaaaaaaaaaait a seccy. ain't this just mastermind? the board game?\n",
        "# WE PLAYED THAT IN DS 1001 OH MY GOD"
      ],
      "metadata": {
        "id": "NoOSjmRKaHu8"
      },
      "execution_count": 179,
      "outputs": []
    },
    {
      "cell_type": "markdown",
      "source": [
        "### Steps\n",
        "We will build this game using several functions.  \n",
        "\n",
        "1. **Count the Bulls:**  \n",
        "Write a function that takes two lists of the same length, and returns the number of Bulls.  That is, it should return the number of indices where the lists contain the same element.  *(Note:  you don't have to check that the entries are between 1 and 6, or that there are no repeats, etc.  A different function will do that.)*\n",
        "\n",
        "> A sample run might look like\n",
        "```\n",
        "first = [11, 3, 17, 5, 1]\n",
        "second = [20, 2, 17, 3, 1]\n",
        "count_bulls(first,second)\n",
        "```\n",
        "```\n",
        " 2\n",
        "```\n"
      ],
      "metadata": {
        "id": "XSH1JULaurD1"
      }
    },
    {
      "cell_type": "markdown",
      "source": [
        "Define your function in the code chunk below.  The function definition command and the return command are pre-populated for you.  You just have to fill in the part which does the actual counting.  I recommend using a list comprehension to do this.\n"
      ],
      "metadata": {
        "id": "pXoOyBk7xmPa"
      }
    },
    {
      "cell_type": "code",
      "source": [
        "# the Bull-counting function\n",
        "# i used stack overflow for this. https://stackoverflow.com/questions/62179001/checking-if-two-item-in-two-different-list-have-similar-values-using-list-compre\n",
        "def count_bulls(first, second):\n",
        "  '''\n",
        "  Takes two lists of the same length and computes the number of positions where the list entries agree.\n",
        "  Apparently this works for floats AND integers. That's highly irrelevant but cool\n",
        "  '''\n",
        "  num_bulls = sum(1 if val==num else 0 for (val, num) in zip(first, second))\n",
        "  return num_bulls"
      ],
      "metadata": {
        "id": "vEsRSe8KxlcF"
      },
      "execution_count": 180,
      "outputs": []
    },
    {
      "cell_type": "code",
      "source": [
        "### TEST RUNS ###\n",
        "first = [1, 1, 1, 1]\n",
        "second = [1, 1, 1, 1]\n",
        "count_bulls(first, second)"
      ],
      "metadata": {
        "colab": {
          "base_uri": "https://localhost:8080/"
        },
        "id": "ln4vtc_7nmoV",
        "outputId": "dcd58346-fb26-4c82-b421-40f814945ffc"
      },
      "execution_count": 181,
      "outputs": [
        {
          "output_type": "execute_result",
          "data": {
            "text/plain": [
              "4"
            ]
          },
          "metadata": {},
          "execution_count": 181
        }
      ]
    },
    {
      "cell_type": "code",
      "source": [
        "first = [1, 3, 1, 4]\n",
        "second = [1, 1, 1, 1]\n",
        "count_bulls(first, second)"
      ],
      "metadata": {
        "colab": {
          "base_uri": "https://localhost:8080/"
        },
        "id": "C55B8VnEn7i8",
        "outputId": "afd17477-d72a-482f-c828-ed400c0bb58e"
      },
      "execution_count": 182,
      "outputs": [
        {
          "output_type": "execute_result",
          "data": {
            "text/plain": [
              "2"
            ]
          },
          "metadata": {},
          "execution_count": 182
        }
      ]
    },
    {
      "cell_type": "code",
      "source": [
        "first = [2, 3, 1, 4]\n",
        "second = [1, 1, 1, 1]\n",
        "count_bulls(first, second)"
      ],
      "metadata": {
        "colab": {
          "base_uri": "https://localhost:8080/"
        },
        "id": "lVM1FcoquHk4",
        "outputId": "9369acd6-a8ac-45ae-aa68-f39c586e3304"
      },
      "execution_count": 183,
      "outputs": [
        {
          "output_type": "execute_result",
          "data": {
            "text/plain": [
              "1"
            ]
          },
          "metadata": {},
          "execution_count": 183
        }
      ]
    },
    {
      "cell_type": "code",
      "source": [
        "first = [1.3, 3, 1, 4]\n",
        "second = [1.3, 1, 1, 1]\n",
        "count_bulls(first, second)"
      ],
      "metadata": {
        "colab": {
          "base_uri": "https://localhost:8080/"
        },
        "id": "Y0PwPmTfuQMQ",
        "outputId": "52f071d2-1cd5-4261-e500-404139ede919"
      },
      "execution_count": 184,
      "outputs": [
        {
          "output_type": "execute_result",
          "data": {
            "text/plain": [
              "2"
            ]
          },
          "metadata": {},
          "execution_count": 184
        }
      ]
    },
    {
      "cell_type": "code",
      "source": [
        "first = [1, 6, 3, 2]\n",
        "second = [3, 1, 5, 3]\n",
        "# there is something wrong with your function.\n",
        "count_bulls(first, second)"
      ],
      "metadata": {
        "colab": {
          "base_uri": "https://localhost:8080/"
        },
        "id": "qIPRRAwt4JuX",
        "outputId": "8a120dc5-d5c1-4814-f506-13a659bd8152"
      },
      "execution_count": 185,
      "outputs": [
        {
          "output_type": "execute_result",
          "data": {
            "text/plain": [
              "0"
            ]
          },
          "metadata": {},
          "execution_count": 185
        }
      ]
    },
    {
      "cell_type": "markdown",
      "source": [
        "Add code and/or text chunks below to demonstrate that you have tested your code and that it works correctly."
      ],
      "metadata": {
        "id": "yACJyJtOzE2U"
      }
    },
    {
      "cell_type": "markdown",
      "source": [
        "2. **Count something else:**  \n",
        "To count the cows it will be helpful first to count how many of the elements occur in both strings, without paying attention their positions.\n",
        "Write a function called `count_animals` that takes two lists of the same length, and returns the number of elements of the second list that are also in the first list.  (In the game setting, each such element is either a Bull or a Cow, but don't worry about which is which for this problem.)\n",
        "You may assume the lists do not contain repeated elements, since this will be the case when the function is called in the game.\n",
        "\n",
        "> This time a sample run might look like\n",
        "```\n",
        "first = [11, 3, 17, 5, 1]\n",
        "second = [20, 2, 17, 3, 1]\n",
        "count_animals(first,second)\n",
        "```\n",
        "```\n",
        " 3\n",
        "```\n",
        "\n",
        "This one isn't started for you.  Remember to include a docstring.  This can also be done using a list comprehension, similar to the previous function.\n",
        "\n"
      ],
      "metadata": {
        "id": "aMsOmejkzNVN"
      }
    },
    {
      "cell_type": "code",
      "source": [
        "# define your function here\n",
        "# the animal-counting function\n",
        "def count_animals(first, second):\n",
        "  '''\n",
        "  Takes two lists of the same length and computes the number of values existing in both lists.\n",
        "  Doesn't care about the position of the values.\n",
        "  '''\n",
        "  num_animals = len([val for val in first if val in second])\n",
        "  return num_animals\n",
        "# consider asking about this because it doesn't work as it should if there are...\n",
        "# ...repetitions in the list"
      ],
      "metadata": {
        "id": "LRvGa8p7oLL6"
      },
      "execution_count": 186,
      "outputs": []
    },
    {
      "cell_type": "markdown",
      "source": [
        "Again, demonstrate below that you have tested your code and that it works."
      ],
      "metadata": {
        "id": "HXRNwANS2f-4"
      }
    },
    {
      "cell_type": "code",
      "source": [
        "### TEST RUNS ###\n",
        "first = [1, 6, 4, 4]\n",
        "second = [1, 3, 2, 5]\n",
        "count_animals(first, second)"
      ],
      "metadata": {
        "colab": {
          "base_uri": "https://localhost:8080/"
        },
        "id": "HzhgcUPPotB2",
        "outputId": "799459c5-cd12-4476-ecaa-20d6a7de0a45"
      },
      "execution_count": 187,
      "outputs": [
        {
          "output_type": "execute_result",
          "data": {
            "text/plain": [
              "1"
            ]
          },
          "metadata": {},
          "execution_count": 187
        }
      ]
    },
    {
      "cell_type": "code",
      "source": [
        "first = [1, 6, 3, 4]\n",
        "second = [1, 3, 2, 5]\n",
        "count_animals(first, second)"
      ],
      "metadata": {
        "colab": {
          "base_uri": "https://localhost:8080/"
        },
        "id": "iPoFfV-evQs6",
        "outputId": "5222ce0f-7137-4321-defc-6fab3956de8b"
      },
      "execution_count": 188,
      "outputs": [
        {
          "output_type": "execute_result",
          "data": {
            "text/plain": [
              "2"
            ]
          },
          "metadata": {},
          "execution_count": 188
        }
      ]
    },
    {
      "cell_type": "code",
      "source": [
        "first = [5, 6, 2, 4]\n",
        "second = [1, 3, 2, 5]\n",
        "count_animals(first, second)"
      ],
      "metadata": {
        "colab": {
          "base_uri": "https://localhost:8080/"
        },
        "id": "nJG3Pfqxv2ut",
        "outputId": "286f12a4-7bf4-44a1-de74-b411919a3b4f"
      },
      "execution_count": 189,
      "outputs": [
        {
          "output_type": "execute_result",
          "data": {
            "text/plain": [
              "2"
            ]
          },
          "metadata": {},
          "execution_count": 189
        }
      ]
    },
    {
      "cell_type": "code",
      "source": [
        "first = [1, 2, 3, 4]\n",
        "second = [4, 3, 2, 1]\n",
        "count_animals(first, second)"
      ],
      "metadata": {
        "colab": {
          "base_uri": "https://localhost:8080/"
        },
        "id": "5VOHQs8Nv5_k",
        "outputId": "a1965cf4-c68f-45c3-a0a0-03169dd6649e"
      },
      "execution_count": 190,
      "outputs": [
        {
          "output_type": "execute_result",
          "data": {
            "text/plain": [
              "4"
            ]
          },
          "metadata": {},
          "execution_count": 190
        }
      ]
    },
    {
      "cell_type": "markdown",
      "source": [
        "3. **Count the cows:**  \n",
        "Write a function called `count_cows` that counts the cows.  \n",
        "> This time a sample run might look like\n",
        "```\n",
        "first = [11, 3, 17, 5, 1]\n",
        "second = [20, 2, 17, 3, 1]\n",
        "count_cows(first,second)\n",
        "```\n",
        "```\n",
        " 1\n",
        "```\n",
        "*Use the two previously defined functions to help you!  \n",
        "In fact, remember that the only reason we wrote the `count_animals` function was to help count the cows.*\n",
        "\n",
        "You can do this with only two lines of code, not counting documentation!"
      ],
      "metadata": {
        "id": "x2DAPkxj2GMo"
      }
    },
    {
      "cell_type": "code",
      "source": [
        "# put the Cow counting function here\n",
        "def count_cows(first, second):\n",
        "  '''\n",
        "  Takes two lists of the same length\n",
        "  and computes the number of values existing in both lists.\n",
        "  HOWEVER, if a value exists in the SAME position in list 1 and list 2,\n",
        "  this function does NOT count it.\n",
        "  Those values would be bulls.\n",
        "  '''\n",
        "  num_cows = len([val for val in first if val in second])-sum(1 if val==num\n",
        "                               else 0 for (val, num) in zip(first, second))\n",
        "  return num_cows\n",
        "# is this code way too ugly?"
      ],
      "metadata": {
        "id": "QnxnaOPI3YZO"
      },
      "execution_count": 191,
      "outputs": []
    },
    {
      "cell_type": "code",
      "source": [
        "### TEST RUNS ###\n",
        "first = [1, 6, 4, 4]\n",
        "second = [1, 3, 2, 5]\n",
        "count_cows(first, second)"
      ],
      "metadata": {
        "colab": {
          "base_uri": "https://localhost:8080/"
        },
        "id": "NTxw7BtYxgTi",
        "outputId": "ee31c4dd-336d-44f7-c0a6-9b4f51215180"
      },
      "execution_count": 192,
      "outputs": [
        {
          "output_type": "execute_result",
          "data": {
            "text/plain": [
              "0"
            ]
          },
          "metadata": {},
          "execution_count": 192
        }
      ]
    },
    {
      "cell_type": "code",
      "source": [
        "first = [1, 2, 3, 4]\n",
        "second = [4, 3, 2, 1]\n",
        "count_cows(first, second)"
      ],
      "metadata": {
        "colab": {
          "base_uri": "https://localhost:8080/"
        },
        "id": "PMki2LvAzx7M",
        "outputId": "370b3294-f3ea-4f41-cf6a-68f0bd1dd34b"
      },
      "execution_count": 193,
      "outputs": [
        {
          "output_type": "execute_result",
          "data": {
            "text/plain": [
              "4"
            ]
          },
          "metadata": {},
          "execution_count": 193
        }
      ]
    },
    {
      "cell_type": "code",
      "source": [
        "first = [1, 5, 2, 3]\n",
        "second = [1, 4, 5, 3]\n",
        "count_cows(first, second)"
      ],
      "metadata": {
        "colab": {
          "base_uri": "https://localhost:8080/"
        },
        "id": "s1-nx3W7Lmbd",
        "outputId": "6ca31332-a39d-42f1-ef57-593698479b5d"
      },
      "execution_count": 194,
      "outputs": [
        {
          "output_type": "execute_result",
          "data": {
            "text/plain": [
              "1"
            ]
          },
          "metadata": {},
          "execution_count": 194
        }
      ]
    },
    {
      "cell_type": "markdown",
      "metadata": {
        "id": "hWQhYDIVYjXr"
      },
      "source": [
        "4. **Create feedback string**  \n",
        "Write a `build_response_str` function that takes three numbers, say `b,c,l`, and outputs a string of total length `l` that consists of `b` B's, followed by `c` C's, and the rest X's (until the total length is `l`).\n",
        "\n",
        "> Sample run:\n",
        "```\n",
        "build_response_str(4,3,9)\n",
        "```\n",
        "```\n",
        "BBBBCCCXX\n",
        "```"
      ]
    },
    {
      "cell_type": "code",
      "source": [
        "# define your function here\n",
        "def build_response_str(b, c, l):\n",
        "  '''\n",
        "  This function will output a string of letters\n",
        "  whose length is indicated by the 'l' variable\n",
        "  This function will output 'b' amount of letter B's\n",
        "  and 'c' amount of letter C's\n",
        "  and fill the remaining space with the letter 'x'.\n",
        "  If you make the total number of 'B's and 'C's\n",
        "  greater than the length of the string 'l',\n",
        "  the 'C's at the end will be cut off.\n",
        "  If you enter something that's not an integer,\n",
        "  the computer will urge you to enter an integer.\n",
        "  '''\n",
        "  try:\n",
        "    if b+c <= l:\n",
        "      print(\"B\"*b + \"C\"*c + \"X\"*(l-(b+c)))\n",
        "    if b > l:\n",
        "      print(\"B\"*l)\n",
        "    else:\n",
        "      if b+c > l:\n",
        "        print(\"B\"*b + (\"C\"*(l-b)))\n",
        "  except:\n",
        "    print('i do not understand. sorry. try entering integers.')"
      ],
      "metadata": {
        "id": "GSimWqUsMaPE"
      },
      "execution_count": 195,
      "outputs": []
    },
    {
      "cell_type": "markdown",
      "source": [
        "Test your code here."
      ],
      "metadata": {
        "id": "2D14kxTU7ApH"
      }
    },
    {
      "cell_type": "code",
      "source": [
        "### TEST RUNS ###\n",
        "b = 1\n",
        "c = 1\n",
        "l = 4\n",
        "build_response_str(b, c, l)"
      ],
      "metadata": {
        "id": "1ILmeEzQg_2f",
        "colab": {
          "base_uri": "https://localhost:8080/"
        },
        "outputId": "946cbde2-8264-46d2-a7cc-7d408d08735d"
      },
      "execution_count": 196,
      "outputs": [
        {
          "output_type": "stream",
          "name": "stdout",
          "text": [
            "BCXX\n"
          ]
        }
      ]
    },
    {
      "cell_type": "code",
      "source": [
        "b = 2\n",
        "c = 3\n",
        "l = 4\n",
        "build_response_str(b, c, l)"
      ],
      "metadata": {
        "id": "X9-12BqEhIsY",
        "colab": {
          "base_uri": "https://localhost:8080/"
        },
        "outputId": "2d8b098f-ece3-4c7b-e8b3-5ce101d9e21c"
      },
      "execution_count": 197,
      "outputs": [
        {
          "output_type": "stream",
          "name": "stdout",
          "text": [
            "BBCC\n"
          ]
        }
      ]
    },
    {
      "cell_type": "code",
      "source": [
        "b = 2\n",
        "c = 3\n",
        "l = 9\n",
        "build_response_str(b, c, l)"
      ],
      "metadata": {
        "colab": {
          "base_uri": "https://localhost:8080/"
        },
        "id": "7xolDxvsvNia",
        "outputId": "d31c5e3d-524a-4681-8cb5-0c71ef326146"
      },
      "execution_count": 198,
      "outputs": [
        {
          "output_type": "stream",
          "name": "stdout",
          "text": [
            "BBCCCXXXX\n"
          ]
        }
      ]
    },
    {
      "cell_type": "code",
      "source": [
        "b = 5\n",
        "c = 3\n",
        "l = 4\n",
        "build_response_str(b, c, l)"
      ],
      "metadata": {
        "colab": {
          "base_uri": "https://localhost:8080/"
        },
        "id": "VL9DzGjavWwr",
        "outputId": "358a1d96-ea75-493c-d9c3-84a8010d17f0"
      },
      "execution_count": 199,
      "outputs": [
        {
          "output_type": "stream",
          "name": "stdout",
          "text": [
            "BBBB\n"
          ]
        }
      ]
    },
    {
      "cell_type": "code",
      "source": [
        "b = 0\n",
        "c = 4\n",
        "l = 4\n",
        "build_response_str(b, c, l)"
      ],
      "metadata": {
        "colab": {
          "base_uri": "https://localhost:8080/"
        },
        "id": "1SwaEtY3T4Wp",
        "outputId": "bd248a42-bdf0-43b2-9f86-65de39116394"
      },
      "execution_count": 200,
      "outputs": [
        {
          "output_type": "stream",
          "name": "stdout",
          "text": [
            "CCCC\n"
          ]
        }
      ]
    },
    {
      "cell_type": "code",
      "source": [
        "b = 0\n",
        "c = 5\n",
        "l = 4\n",
        "build_response_str(b, c, l)"
      ],
      "metadata": {
        "colab": {
          "base_uri": "https://localhost:8080/"
        },
        "id": "UOi4fxz4UwGe",
        "outputId": "ce16e8ee-d38d-4751-ea54-555fe5a6657f"
      },
      "execution_count": 201,
      "outputs": [
        {
          "output_type": "stream",
          "name": "stdout",
          "text": [
            "CCCC\n"
          ]
        }
      ]
    },
    {
      "cell_type": "code",
      "source": [
        "b = \"AAAAAAAAAAAAAAAAAAAAAAAAAAAAA\"\n",
        "c = 3\n",
        "l = 4\n",
        "build_response_str(b, c, l)"
      ],
      "metadata": {
        "colab": {
          "base_uri": "https://localhost:8080/"
        },
        "id": "APcW_xzSTxhV",
        "outputId": "07f34442-1495-4183-ec99-723229934075"
      },
      "execution_count": 202,
      "outputs": [
        {
          "output_type": "stream",
          "name": "stdout",
          "text": [
            "i do not understand. sorry. try entering integers.\n"
          ]
        }
      ]
    },
    {
      "cell_type": "code",
      "source": [
        "b = 0.5\n",
        "c = 3\n",
        "l = 4\n",
        "build_response_str(b, c, l)"
      ],
      "metadata": {
        "colab": {
          "base_uri": "https://localhost:8080/"
        },
        "id": "0YcatxW-U-RW",
        "outputId": "d86770fe-cd8f-4d9c-85a8-4de60f2e9a9c"
      },
      "execution_count": 203,
      "outputs": [
        {
          "output_type": "stream",
          "name": "stdout",
          "text": [
            "i do not understand. sorry. try entering integers.\n"
          ]
        }
      ]
    },
    {
      "cell_type": "markdown",
      "metadata": {
        "id": "omzE6sLKwsMC"
      },
      "source": [
        "5.  **Generate feedback for guesses**  \n",
        "Write a function `response(first,second)` that takes two lists of the same length, and outputs a string consisting of some number of B's followed by some number of C's followed by some number of X's, where the numbers correspond to the things we counted above.  That is, if `first` were the secret code in the game and `second` were the user's guess, then we would print one B for each Bull, one C for each Cow, and one X for each Miss. The total output string should have the same length as the input strings.\n",
        "\n",
        "> Sample run:\n",
        "```\n",
        "first = [11, 3, 17, 5, 1]\n",
        "second = [20, 2, 17, 3, 1]\n",
        "response(first,second)\n",
        "```\n",
        "```\n",
        " BBCXX\n",
        "```\n",
        "\n",
        "With all the functions you've already put in place, this should be simple.  Test your code once it's written.\n"
      ]
    },
    {
      "cell_type": "code",
      "source": [
        "def response(first, second):\n",
        "  '''\n",
        "  When you input two lists of numbers,\n",
        "  This function will output one letter 'B' for every space in the lists\n",
        "  that share the same value.\n",
        "  It will also output one letter 'C' for every value that exists in both lists\n",
        "  in different spaces.\n",
        "  For every space in ONE list\n",
        "  occupied by a number that exists in one list and not the other,\n",
        "  this function will print an 'X'.\n",
        "  The function does not understand non-integers, so you will receive an\n",
        "  error message if your input is not an integer.\n",
        "  '''\n",
        "  b = sum(1 if val==num else 0 for (val, num) in zip(first, second))\n",
        "  c = len([val for val in first if val in second])-sum(1 if val==num\n",
        "                               else 0 for (val, num) in zip(first, second))\n",
        "  l = len(first)\n",
        "  if len(first) != len(second):\n",
        "    print('i do not understand. lists must be same length.')\n",
        "  else:\n",
        "    try:\n",
        "      if b+c <= l:\n",
        "        print(\"B\"*b + \"C\"*c + \"X\"*(l-(b+c)))\n",
        "      if b > l:\n",
        "        print(\"B\"*l)\n",
        "      else:\n",
        "        if b+c > l:\n",
        "          print(\"B\"*b + (\"C\"*(l-b)))\n",
        "    except:\n",
        "      print('i do not understand. sorry. try entering integers.')"
      ],
      "metadata": {
        "id": "RD1qq7l783y5"
      },
      "execution_count": 204,
      "outputs": []
    },
    {
      "cell_type": "code",
      "source": [
        "### TEST RUNS ###\n",
        "first = [1, 5, 2, 3]\n",
        "second = [1, 4, 5, 3]\n",
        "response(first, second)"
      ],
      "metadata": {
        "colab": {
          "base_uri": "https://localhost:8080/"
        },
        "id": "2dkD4X5mXXPa",
        "outputId": "e186834e-1464-44cd-eb3a-a573219174d3"
      },
      "execution_count": 205,
      "outputs": [
        {
          "output_type": "stream",
          "name": "stdout",
          "text": [
            "BBCX\n"
          ]
        }
      ]
    },
    {
      "cell_type": "code",
      "source": [
        "first = [2, 2, 2, 2]\n",
        "second = [1, 4, 5, 3]\n",
        "response(first, second)"
      ],
      "metadata": {
        "colab": {
          "base_uri": "https://localhost:8080/"
        },
        "id": "ULFHkYU_yGIP",
        "outputId": "85c014b0-dd92-40c9-dc0b-a3f940890a57"
      },
      "execution_count": 206,
      "outputs": [
        {
          "output_type": "stream",
          "name": "stdout",
          "text": [
            "XXXX\n"
          ]
        }
      ]
    },
    {
      "cell_type": "code",
      "source": [
        "first = [1, 5, 2, 3]\n",
        "second = [4, 6, 5, 1]\n",
        "response(first, second)"
      ],
      "metadata": {
        "colab": {
          "base_uri": "https://localhost:8080/"
        },
        "id": "oCVmbFZQy1z2",
        "outputId": "1f13fe68-8031-48fc-8fd6-52c53a944d22"
      },
      "execution_count": 207,
      "outputs": [
        {
          "output_type": "stream",
          "name": "stdout",
          "text": [
            "CCXX\n"
          ]
        }
      ]
    },
    {
      "cell_type": "code",
      "source": [
        "first = [1, 2, 3, 4]\n",
        "second = [5, 6, 1, 2]\n",
        "response(first, second)"
      ],
      "metadata": {
        "colab": {
          "base_uri": "https://localhost:8080/"
        },
        "id": "OOW3Df82zKce",
        "outputId": "d7c6ed70-744f-4daf-d94e-d7d3c97e04a1"
      },
      "execution_count": 208,
      "outputs": [
        {
          "output_type": "stream",
          "name": "stdout",
          "text": [
            "CCXX\n"
          ]
        }
      ]
    },
    {
      "cell_type": "code",
      "source": [
        "first = [2, 2, 1]\n",
        "second = [5, 3, 1]\n",
        "response(first, second)"
      ],
      "metadata": {
        "colab": {
          "base_uri": "https://localhost:8080/"
        },
        "id": "76BQDF6KOw6-",
        "outputId": "2622031a-b9ad-4be4-8fd9-b640d1b82ae5"
      },
      "execution_count": 209,
      "outputs": [
        {
          "output_type": "stream",
          "name": "stdout",
          "text": [
            "BXX\n"
          ]
        }
      ]
    },
    {
      "cell_type": "code",
      "source": [
        "first = [2, 2, 1, 4]\n",
        "second = [5, 3, 1]\n",
        "response(first, second)"
      ],
      "metadata": {
        "colab": {
          "base_uri": "https://localhost:8080/"
        },
        "id": "tIRT5p1IPXJN",
        "outputId": "4705c723-ceb6-4313-c779-84a72cae454f"
      },
      "execution_count": 210,
      "outputs": [
        {
          "output_type": "stream",
          "name": "stdout",
          "text": [
            "i do not understand. lists must be same length.\n"
          ]
        }
      ]
    },
    {
      "cell_type": "markdown",
      "metadata": {
        "id": "LWshNPjPZJdQ"
      },
      "source": [
        "6.  **Choose the secret code**  \n",
        "The `random` package, and specifically the `sample` sub-package, is useful for generating random samples.  Try running the following lines of code several times.\n",
        "\n"
      ]
    },
    {
      "cell_type": "code",
      "source": [
        "from random import sample\n",
        "\n",
        "sample(range(1,7),4)  # the first argument is the population to be sampled, and the second is the number of samples\n",
        "                      # recall that `range(a,b)` includes `a` but stops at `b-1`"
      ],
      "metadata": {
        "id": "OzEZ5BQZ85jV",
        "colab": {
          "base_uri": "https://localhost:8080/"
        },
        "outputId": "15d7e3fb-6d8a-4afc-9a4c-00d60f96ef83"
      },
      "execution_count": 211,
      "outputs": [
        {
          "output_type": "execute_result",
          "data": {
            "text/plain": [
              "[3, 2, 1, 6]"
            ]
          },
          "metadata": {},
          "execution_count": 211
        }
      ]
    },
    {
      "cell_type": "code",
      "source": [
        "### MORE TEST RUNS ###\n",
        "sample(range(1,7),4)"
      ],
      "metadata": {
        "colab": {
          "base_uri": "https://localhost:8080/"
        },
        "id": "fLA0jHIFxfKb",
        "outputId": "30c625fe-bfa1-4f25-e8a4-4ccf44ad9666"
      },
      "execution_count": 212,
      "outputs": [
        {
          "output_type": "execute_result",
          "data": {
            "text/plain": [
              "[6, 2, 3, 1]"
            ]
          },
          "metadata": {},
          "execution_count": 212
        }
      ]
    },
    {
      "cell_type": "code",
      "source": [
        "sample(range(1,7),4)"
      ],
      "metadata": {
        "colab": {
          "base_uri": "https://localhost:8080/"
        },
        "id": "CkKDz-BXxjwE",
        "outputId": "bf31167a-b22a-49ce-a4d7-c3ce7e9671f8"
      },
      "execution_count": 213,
      "outputs": [
        {
          "output_type": "execute_result",
          "data": {
            "text/plain": [
              "[6, 1, 3, 5]"
            ]
          },
          "metadata": {},
          "execution_count": 213
        }
      ]
    },
    {
      "cell_type": "code",
      "source": [
        "sample(range(1,7),4)"
      ],
      "metadata": {
        "colab": {
          "base_uri": "https://localhost:8080/"
        },
        "id": "EqFan-U9xoR2",
        "outputId": "de4ebf0a-42ca-4ccf-c8e3-d4cef6e979ac"
      },
      "execution_count": 214,
      "outputs": [
        {
          "output_type": "execute_result",
          "data": {
            "text/plain": [
              "[1, 4, 6, 2]"
            ]
          },
          "metadata": {},
          "execution_count": 214
        }
      ]
    },
    {
      "cell_type": "markdown",
      "source": [
        "What type of object is returned by the `sample` function?\n"
      ],
      "metadata": {
        "id": "N1BOe2Xd-kr4"
      }
    },
    {
      "cell_type": "code",
      "source": [
        "# determining the type of object returned by this function.\n",
        "type(sample(range(1,7),4))"
      ],
      "metadata": {
        "id": "U5AAu9sG-slX",
        "colab": {
          "base_uri": "https://localhost:8080/"
        },
        "outputId": "0a2aa1bf-12e1-4cc4-9596-d6c2b7f345d4"
      },
      "execution_count": 215,
      "outputs": [
        {
          "output_type": "execute_result",
          "data": {
            "text/plain": [
              "list"
            ]
          },
          "metadata": {},
          "execution_count": 215
        }
      ]
    },
    {
      "cell_type": "markdown",
      "source": [
        "\n",
        "\n",
        "*   The type of object returned by the \"sample\" function is a list.\n",
        "\n"
      ],
      "metadata": {
        "id": "yGZw8xFZ-uN4"
      }
    },
    {
      "cell_type": "markdown",
      "source": [
        "7. **Verify the guess**  \n",
        "Finish writing a function called `get_guess` (started below) to prompt the user for a guess and then make sure the input is valid according to the rules of the game.\n",
        "The prompt is already given.  Note that the `list` command converts the input into a list of characters so that it can be passed to the other functions (which are expecting lists).   \n",
        ">**Alert:  you will likely have to think more about data types before this is all over.**"
      ],
      "metadata": {
        "id": "mbK84TdIAVsO"
      }
    },
    {
      "cell_type": "code",
      "source": [
        "def get_guess():\n",
        "# Add code as needed to verify that the guess is legitimate.\n",
        "# Respond to an illegitimate guess with a message telling the user what the rules are\n",
        "# and asking to try again.\n",
        "\n",
        "# needed rules: 4 digits long, no repeated digits, only numbers 1-6.\n",
        "\n",
        "  guess = list(input(\"Enter your guess:\"))\n",
        "  possible_values = [\"1\", \"2\", \"3\", \"4\", \"5\", \"6\"]\n",
        "  try:\n",
        "    l = len(guess)\n",
        "    if l != 4:\n",
        "      print(\"please try again. your list MUST be four numbers long.\")\n",
        "\n",
        "    for value in guess:\n",
        "      if guess.count(value) > 1:\n",
        "        print(\"no repetitions please! try again!\");\n",
        "        break\n",
        "\n",
        "    for value in guess:\n",
        "      if value not in possible_values:\n",
        "        print(\"values from one to six only please. try again.\")\n",
        "        break\n",
        "  except:\n",
        "    return(guess)"
      ],
      "metadata": {
        "id": "13HGg6VvBXSH"
      },
      "execution_count": 216,
      "outputs": []
    },
    {
      "cell_type": "markdown",
      "source": [
        "As usual, test your code.  What type of objects are we dealing with here?"
      ],
      "metadata": {
        "id": "PSPYpeZYONf0"
      }
    },
    {
      "cell_type": "code",
      "source": [
        "# well, all the objects that we're dealing with are strings."
      ],
      "metadata": {
        "id": "YxvFjl3f3cs-"
      },
      "execution_count": 217,
      "outputs": []
    },
    {
      "cell_type": "code",
      "source": [
        "### TEST RUNS RAHHHHHHH ###\n",
        "get_guess()"
      ],
      "metadata": {
        "id": "ytgf6BfiOPNh",
        "colab": {
          "base_uri": "https://localhost:8080/"
        },
        "outputId": "376e1dd8-5779-4b69-90c5-5d0184b6943e"
      },
      "execution_count": 218,
      "outputs": [
        {
          "output_type": "stream",
          "name": "stdout",
          "text": [
            "Enter your guess:2342\n",
            "no repetitions please! try again!\n"
          ]
        }
      ]
    },
    {
      "cell_type": "code",
      "source": [
        "get_guess()"
      ],
      "metadata": {
        "colab": {
          "base_uri": "https://localhost:8080/"
        },
        "id": "fmsxCFsk3sIi",
        "outputId": "03fd22c8-24fa-4262-9761-436d8757bce2"
      },
      "execution_count": 219,
      "outputs": [
        {
          "output_type": "stream",
          "name": "stdout",
          "text": [
            "Enter your guess:112312312\n",
            "please try again. your list MUST be four numbers long.\n",
            "no repetitions please! try again!\n"
          ]
        }
      ]
    },
    {
      "cell_type": "code",
      "source": [
        "get_guess()"
      ],
      "metadata": {
        "colab": {
          "base_uri": "https://localhost:8080/"
        },
        "id": "_4ZaTBXT37bD",
        "outputId": "b507cdf7-26e0-4f91-c907-49e75365880f"
      },
      "execution_count": 220,
      "outputs": [
        {
          "output_type": "stream",
          "name": "stdout",
          "text": [
            "Enter your guess:AAAAAAAAAAA\n",
            "please try again. your list MUST be four numbers long.\n",
            "no repetitions please! try again!\n",
            "values from one to six only please. try again.\n"
          ]
        }
      ]
    },
    {
      "cell_type": "code",
      "source": [
        "get_guess()"
      ],
      "metadata": {
        "colab": {
          "base_uri": "https://localhost:8080/"
        },
        "id": "J_3VV5-I4GI1",
        "outputId": "578f1cc3-7797-4f09-bc08-d49f616e1c9f"
      },
      "execution_count": 221,
      "outputs": [
        {
          "name": "stdout",
          "output_type": "stream",
          "text": [
            "Enter your guess:1234\n"
          ]
        }
      ]
    },
    {
      "cell_type": "markdown",
      "source": [
        "8. **Put it all together**  \n",
        "Finally, fill in the details of the function `bulls_cows` below so that it will play the game of Bulls and Cows when called.  Note that the function takes no arguments and returns nothing.\n"
      ],
      "metadata": {
        "id": "WdtvUrA4-uzn"
      }
    },
    {
      "cell_type": "code",
      "execution_count": 234,
      "metadata": {
        "id": "_u48oidGzRKX"
      },
      "outputs": [],
      "source": [
        "from random import sample\n",
        "\n",
        "def bulls_cows():\n",
        "  '''\n",
        "  This function plays the game \"Bulls and Cows.\"\n",
        "  It takes no arguments and returns nothing.\n",
        "  '''\n",
        "  # user gets a maximum of six guesses\n",
        "  for i in range(6):\n",
        "  # computer selects a secret code\n",
        "    code = sample(range(1,7),4)\n",
        "    # the guess function\n",
        "    guess=list(input(\"Enter your guess:\"))\n",
        "    # defining 'b' and 'c' and 'l'\n",
        "    b = sum(1 if val==num else 0 for (val, num) in zip(code, guess))\n",
        "    c = len([val for val in guess if val in code])-sum(1 if val==num\n",
        "                              else 0 for (val, num) in zip(code, guess))\n",
        "    l = len(guess)\n",
        "    possible_values = [\"1\", \"2\", \"3\", \"4\", \"5\", \"6\"]\n",
        "    # we start guessing\n",
        "    if l != 4:\n",
        "      print(\"please try again. your list MUST be four numbers long.\")\n",
        "    for value in guess:\n",
        "      if guess.count(value) > 1:\n",
        "        print(\"no repetitions please! try again!\");\n",
        "        break\n",
        "    for value in guess:\n",
        "      if value not in possible_values:\n",
        "        print(\"values from one to six only please. try again.\")\n",
        "        break\n",
        "    if code==guess:\n",
        "      print(\"You guessed it!\")\n",
        "    else:\n",
        "      print(\"B\"*b + \"C\"*c + \"X\"*(l-(b+c)))\n",
        "  print(f\"You have run out of guesses. The secret code was {code}.\")\n",
        "  return"
      ]
    },
    {
      "cell_type": "markdown",
      "metadata": {
        "id": "NzjqX_9K3OuV"
      },
      "source": [
        "Play the game a few times below.  Make sure it behaves as you think it should!"
      ]
    },
    {
      "cell_type": "code",
      "execution_count": 235,
      "metadata": {
        "id": "b-HELV-z3OuW",
        "colab": {
          "base_uri": "https://localhost:8080/",
          "height": 512
        },
        "outputId": "72993f54-2bde-4dc7-d1f7-45c9753bcc49"
      },
      "outputs": [
        {
          "output_type": "stream",
          "name": "stdout",
          "text": [
            "Enter your guess:5412\n",
            "XXXX\n",
            "Enter your guess:2321\n",
            "no repetitions please! try again!\n",
            "XXXX\n",
            "Enter your guess:124134\n",
            "please try again. your list MUST be four numbers long.\n",
            "no repetitions please! try again!\n",
            "XXXXXX\n",
            "Enter your guess:333\n",
            "please try again. your list MUST be four numbers long.\n",
            "no repetitions please! try again!\n",
            "XXX\n"
          ]
        },
        {
          "output_type": "error",
          "ename": "KeyboardInterrupt",
          "evalue": "Interrupted by user",
          "traceback": [
            "\u001b[0;31m---------------------------------------------------------------------------\u001b[0m",
            "\u001b[0;31mKeyboardInterrupt\u001b[0m                         Traceback (most recent call last)",
            "\u001b[0;32m<ipython-input-235-acb4da5a3074>\u001b[0m in \u001b[0;36m<cell line: 1>\u001b[0;34m()\u001b[0m\n\u001b[0;32m----> 1\u001b[0;31m \u001b[0mbulls_cows\u001b[0m\u001b[0;34m(\u001b[0m\u001b[0;34m)\u001b[0m\u001b[0;34m\u001b[0m\u001b[0;34m\u001b[0m\u001b[0m\n\u001b[0m",
            "\u001b[0;32m<ipython-input-234-64484d685dba>\u001b[0m in \u001b[0;36mbulls_cows\u001b[0;34m()\u001b[0m\n\u001b[1;32m     11\u001b[0m     \u001b[0mcode\u001b[0m \u001b[0;34m=\u001b[0m \u001b[0msample\u001b[0m\u001b[0;34m(\u001b[0m\u001b[0mrange\u001b[0m\u001b[0;34m(\u001b[0m\u001b[0;36m1\u001b[0m\u001b[0;34m,\u001b[0m\u001b[0;36m7\u001b[0m\u001b[0;34m)\u001b[0m\u001b[0;34m,\u001b[0m\u001b[0;36m4\u001b[0m\u001b[0;34m)\u001b[0m\u001b[0;34m\u001b[0m\u001b[0;34m\u001b[0m\u001b[0m\n\u001b[1;32m     12\u001b[0m     \u001b[0;31m# the guess function\u001b[0m\u001b[0;34m\u001b[0m\u001b[0;34m\u001b[0m\u001b[0m\n\u001b[0;32m---> 13\u001b[0;31m     \u001b[0mguess\u001b[0m\u001b[0;34m=\u001b[0m\u001b[0mlist\u001b[0m\u001b[0;34m(\u001b[0m\u001b[0minput\u001b[0m\u001b[0;34m(\u001b[0m\u001b[0;34m\"Enter your guess:\"\u001b[0m\u001b[0;34m)\u001b[0m\u001b[0;34m)\u001b[0m\u001b[0;34m\u001b[0m\u001b[0;34m\u001b[0m\u001b[0m\n\u001b[0m\u001b[1;32m     14\u001b[0m     \u001b[0;31m# defining 'b' and 'c' and 'l'\u001b[0m\u001b[0;34m\u001b[0m\u001b[0;34m\u001b[0m\u001b[0m\n\u001b[1;32m     15\u001b[0m     \u001b[0mb\u001b[0m \u001b[0;34m=\u001b[0m \u001b[0msum\u001b[0m\u001b[0;34m(\u001b[0m\u001b[0;36m1\u001b[0m \u001b[0;32mif\u001b[0m \u001b[0mval\u001b[0m\u001b[0;34m==\u001b[0m\u001b[0mnum\u001b[0m \u001b[0;32melse\u001b[0m \u001b[0;36m0\u001b[0m \u001b[0;32mfor\u001b[0m \u001b[0;34m(\u001b[0m\u001b[0mval\u001b[0m\u001b[0;34m,\u001b[0m \u001b[0mnum\u001b[0m\u001b[0;34m)\u001b[0m \u001b[0;32min\u001b[0m \u001b[0mzip\u001b[0m\u001b[0;34m(\u001b[0m\u001b[0mcode\u001b[0m\u001b[0;34m,\u001b[0m \u001b[0mguess\u001b[0m\u001b[0;34m)\u001b[0m\u001b[0;34m)\u001b[0m\u001b[0;34m\u001b[0m\u001b[0;34m\u001b[0m\u001b[0m\n",
            "\u001b[0;32m/usr/local/lib/python3.10/dist-packages/ipykernel/kernelbase.py\u001b[0m in \u001b[0;36mraw_input\u001b[0;34m(self, prompt)\u001b[0m\n\u001b[1;32m    849\u001b[0m                 \u001b[0;34m\"raw_input was called, but this frontend does not support input requests.\"\u001b[0m\u001b[0;34m\u001b[0m\u001b[0;34m\u001b[0m\u001b[0m\n\u001b[1;32m    850\u001b[0m             )\n\u001b[0;32m--> 851\u001b[0;31m         return self._input_request(str(prompt),\n\u001b[0m\u001b[1;32m    852\u001b[0m             \u001b[0mself\u001b[0m\u001b[0;34m.\u001b[0m\u001b[0m_parent_ident\u001b[0m\u001b[0;34m,\u001b[0m\u001b[0;34m\u001b[0m\u001b[0;34m\u001b[0m\u001b[0m\n\u001b[1;32m    853\u001b[0m             \u001b[0mself\u001b[0m\u001b[0;34m.\u001b[0m\u001b[0m_parent_header\u001b[0m\u001b[0;34m,\u001b[0m\u001b[0;34m\u001b[0m\u001b[0;34m\u001b[0m\u001b[0m\n",
            "\u001b[0;32m/usr/local/lib/python3.10/dist-packages/ipykernel/kernelbase.py\u001b[0m in \u001b[0;36m_input_request\u001b[0;34m(self, prompt, ident, parent, password)\u001b[0m\n\u001b[1;32m    893\u001b[0m             \u001b[0;32mexcept\u001b[0m \u001b[0mKeyboardInterrupt\u001b[0m\u001b[0;34m:\u001b[0m\u001b[0;34m\u001b[0m\u001b[0;34m\u001b[0m\u001b[0m\n\u001b[1;32m    894\u001b[0m                 \u001b[0;31m# re-raise KeyboardInterrupt, to truncate traceback\u001b[0m\u001b[0;34m\u001b[0m\u001b[0;34m\u001b[0m\u001b[0m\n\u001b[0;32m--> 895\u001b[0;31m                 \u001b[0;32mraise\u001b[0m \u001b[0mKeyboardInterrupt\u001b[0m\u001b[0;34m(\u001b[0m\u001b[0;34m\"Interrupted by user\"\u001b[0m\u001b[0;34m)\u001b[0m \u001b[0;32mfrom\u001b[0m \u001b[0;32mNone\u001b[0m\u001b[0;34m\u001b[0m\u001b[0;34m\u001b[0m\u001b[0m\n\u001b[0m\u001b[1;32m    896\u001b[0m             \u001b[0;32mexcept\u001b[0m \u001b[0mException\u001b[0m \u001b[0;32mas\u001b[0m \u001b[0me\u001b[0m\u001b[0;34m:\u001b[0m\u001b[0;34m\u001b[0m\u001b[0;34m\u001b[0m\u001b[0m\n\u001b[1;32m    897\u001b[0m                 \u001b[0mself\u001b[0m\u001b[0;34m.\u001b[0m\u001b[0mlog\u001b[0m\u001b[0;34m.\u001b[0m\u001b[0mwarning\u001b[0m\u001b[0;34m(\u001b[0m\u001b[0;34m\"Invalid Message:\"\u001b[0m\u001b[0;34m,\u001b[0m \u001b[0mexc_info\u001b[0m\u001b[0;34m=\u001b[0m\u001b[0;32mTrue\u001b[0m\u001b[0;34m)\u001b[0m\u001b[0;34m\u001b[0m\u001b[0;34m\u001b[0m\u001b[0m\n",
            "\u001b[0;31mKeyboardInterrupt\u001b[0m: Interrupted by user"
          ]
        }
      ],
      "source": [
        "bulls_cows()"
      ]
    },
    {
      "cell_type": "code",
      "source": [
        "bulls_cows()"
      ],
      "metadata": {
        "id": "inzOdtimDfGU",
        "colab": {
          "base_uri": "https://localhost:8080/"
        },
        "outputId": "616e73f6-f650-48d6-989d-7a69f1150ec9"
      },
      "execution_count": 224,
      "outputs": [
        {
          "output_type": "stream",
          "name": "stdout",
          "text": [
            "Enter your guess:23423423\n",
            "please try again. your list MUST be four numbers long.\n",
            "no repetitions please! try again!\n",
            "Enter your guess:234\n",
            "please try again. your list MUST be four numbers long.\n",
            "Enter your guess:2222\n",
            "no repetitions please! try again!\n",
            "Enter your guess:1111\n",
            "no repetitions please! try again!\n",
            "Enter your guess:5461\n",
            "Enter your guess:2341\n",
            "You have run out of guesses. The secret code was [2, 1, 3, 5].\n"
          ]
        }
      ]
    },
    {
      "cell_type": "code",
      "source": [
        "bulls_cows()"
      ],
      "metadata": {
        "id": "Eqw-5laFDfkG",
        "colab": {
          "base_uri": "https://localhost:8080/"
        },
        "outputId": "9d3a30b0-4e2b-471f-c0c4-54d178afd135"
      },
      "execution_count": 225,
      "outputs": [
        {
          "output_type": "stream",
          "name": "stdout",
          "text": [
            "Enter your guess:4234\n",
            "no repetitions please! try again!\n",
            "Enter your guess:1111\n",
            "no repetitions please! try again!\n",
            "Enter your guess:222\n",
            "please try again. your list MUST be four numbers long.\n",
            "no repetitions please! try again!\n",
            "Enter your guess:44444\n",
            "please try again. your list MUST be four numbers long.\n",
            "no repetitions please! try again!\n",
            "Enter your guess:4321\n",
            "Enter your guess:888\n",
            "please try again. your list MUST be four numbers long.\n",
            "no repetitions please! try again!\n",
            "values from one to six only please. try again.\n",
            "You have run out of guesses. The secret code was [5, 3, 4, 1].\n"
          ]
        }
      ]
    },
    {
      "cell_type": "markdown",
      "source": [
        "9. **Reflect**  \n",
        "Think of at least three ways you could change the rules or setup of the game, and in each case describe (in one sentence, you don't need to write code) what you would have to do to modify your code to play the new version of the game.  Use a text box below for each of your ideas."
      ],
      "metadata": {
        "id": "a58-KCX4ELRO"
      }
    },
    {
      "cell_type": "markdown",
      "source": [
        "(1) **Accounting for the existence of repetitions** - I'd need to need to delete the small four-line section of code where 'if guess.count(value) > 1:' exists (this little bit of code can be found in get_guess).\n"
      ],
      "metadata": {
        "id": "Jof2vIZSEfwo"
      }
    },
    {
      "cell_type": "markdown",
      "source": [
        "(2) **Playing the same game, but where the player would have to guess certain letters instead of numbers -** Not much about the code would have to change considering our number guesses were converted into four-object-long lists with strings; however, we'd have to teach our function to recognise a different set of valid inputs (i.e. we'd write 'a', 'b', 'c' where we'd otherwise tell the computer '1', '2', '3', '4', '5', '6')."
      ],
      "metadata": {
        "id": "f2_QlBavEiqW"
      }
    },
    {
      "cell_type": "markdown",
      "source": [
        "(3) **If 'bulls' were counted as 'cows' *in addition to being counted as 'bulls'* -** Instead of defining 'count_cows' as count_animals minus count_bulls, I could just use my count_animals function as my count_cows function; additionally, I would need to allow 'l' to equal more than the total length of my input lists, so I'd modify one of my if/else statements (the ones under 'generate feedback for guesses') to make l's maximum length indefinite (the minimum could still be capped at 4)."
      ],
      "metadata": {
        "id": "sqfq2EFpEjZt"
      }
    }
  ],
  "metadata": {
    "colab": {
      "provenance": [],
      "include_colab_link": true
    },
    "kernelspec": {
      "display_name": "Python 3",
      "name": "python3"
    },
    "language_info": {
      "name": "python"
    }
  },
  "nbformat": 4,
  "nbformat_minor": 0
}