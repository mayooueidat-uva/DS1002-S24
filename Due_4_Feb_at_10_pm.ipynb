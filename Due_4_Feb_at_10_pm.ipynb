{
  "nbformat": 4,
  "nbformat_minor": 0,
  "metadata": {
    "colab": {
      "provenance": [],
      "include_colab_link": true
    },
    "kernelspec": {
      "name": "python3",
      "display_name": "Python 3"
    },
    "language_info": {
      "name": "python"
    }
  },
  "cells": [
    {
      "cell_type": "markdown",
      "metadata": {
        "id": "view-in-github",
        "colab_type": "text"
      },
      "source": [
        "<a href=\"https://colab.research.google.com/github/mayooueidat-uva/DS1002-S24/blob/main/Due_4_Feb_at_10_pm.ipynb\" target=\"_parent\"><img src=\"https://colab.research.google.com/assets/colab-badge.svg\" alt=\"Open In Colab\"/></a>"
      ]
    },
    {
      "cell_type": "markdown",
      "source": [
        "## DS 1002 homework due Sunday Feb 4 at 10 pm\n"
      ],
      "metadata": {
        "id": "zAw2bmn-TjFJ"
      }
    },
    {
      "cell_type": "markdown",
      "source": [
        "\n",
        "The notebook from Wednesday's class is in my GitHib repository, including the little script we wrote at the end to find mangos in a list of fruit.  The file is called `MorePythonBasics.ipynb`.\n",
        "\n",
        "(By the way I wondered if the correct spelling was \"mangos\" or \"mangoes\" and I found [this](https://www.mango.org/blog-mangos-or-mangoes/)!  Who knew?  There's a National Mango Board!  And they're prepared to adjudicate this and other difficult mango-related questions.)\n",
        "\n",
        "\n"
      ],
      "metadata": {
        "id": "Cmf4xleCSWCu"
      }
    },
    {
      "cell_type": "markdown",
      "source": [
        "### Problem 1:  finding fruit\n",
        "\n",
        "Adapt the function we wrote in class so that it takes two arguments,\n",
        "\n",
        "`fruit` and `hungryfor` ,\n",
        "\n",
        "and then searches through the list `fruit` for the item `hungryfor`.  The line that calls the function should look like\n",
        "\n",
        "`find_fruit(food, hungryfor)`\n",
        "\n",
        "Make it print out the results in the same way, so for example if `food` is what we entered in class and `hungryfor = \"tomatoes\"` then the output will be\n",
        "\n",
        "```python\n",
        "No tomatoes here.\n",
        "No tomatoes here.\n",
        "No tomatoes here.\n",
        "No tomatoes here.\n",
        "No tomatoes here.\n",
        "```\n",
        "Test your code by changing the values of `food` and `hungryfor` and make sure the output is what you expect.  Show a few outputs, each in its own code chunk.\n",
        "\n"
      ],
      "metadata": {
        "id": "rJLyGryAThhp"
      }
    },
    {
      "cell_type": "code",
      "source": [
        "# put code here\n",
        "# earth to maya - code here is finished\n",
        "food = [\"apples\", \"starfruit\", \"mishmush\", \"durian\", \"dragonfruit\"]\n",
        "hungryfor = [\"starfruit\"]\n",
        "\n",
        "def find_fruit(food, hungryfor):\n",
        "  for fkjh in food:\n",
        "    if fkjh == \"starfruit\" :\n",
        "      print(\"These aren't tomatoes but they're pretty darn snazzy.\")\n",
        "    else:\n",
        "      print(\"No tomatoes here.\")\n",
        "\n",
        "find_fruit(food, hungryfor)"
      ],
      "metadata": {
        "colab": {
          "base_uri": "https://localhost:8080/"
        },
        "id": "RNlZovB63Kp6",
        "outputId": "0e2b552c-2a45-4ebe-92f3-51e40fe52769"
      },
      "execution_count": 25,
      "outputs": [
        {
          "output_type": "stream",
          "name": "stdout",
          "text": [
            "No tomatoes here.\n",
            "These aren't tomatoes but they're pretty darn snazzy.\n",
            "No tomatoes here.\n",
            "No tomatoes here.\n",
            "No tomatoes here.\n"
          ]
        }
      ]
    },
    {
      "cell_type": "code",
      "source": [
        "# put code here\n",
        "# earth to maya - code here is finished\n",
        "food = [\"apples\", \"starfruit\", \"mishmush\", \"durian\", \"dragonfruit\"]\n",
        "hungryfor = [\"tomatoes\"]\n",
        "\n",
        "def find_fruit(food, hungryfor):\n",
        "  for fkjh in food:\n",
        "    if fkjh == \"tomatoes\" :\n",
        "      print(\"Oh my God, finally some tomatoes. Finally.\")\n",
        "    else:\n",
        "      print(\"No tomatoes here.\")\n",
        "\n",
        "find_fruit(food, hungryfor)"
      ],
      "metadata": {
        "id": "YXwLLFCt6H2f",
        "colab": {
          "base_uri": "https://localhost:8080/"
        },
        "outputId": "a2e4d509-9cb6-43e5-c8fd-bcdadf57e458"
      },
      "execution_count": 30,
      "outputs": [
        {
          "output_type": "stream",
          "name": "stdout",
          "text": [
            "No tomatoes here.\n",
            "No tomatoes here.\n",
            "No tomatoes here.\n",
            "No tomatoes here.\n",
            "No tomatoes here.\n"
          ]
        }
      ]
    },
    {
      "cell_type": "code",
      "source": [
        "# put code here\n",
        "# had to look up how to do 'elif'\n",
        "food = [\"potato\", \"tomato\", \"topato\", \"motapo\", \"tompato\"]\n",
        "hungryfor = [\"potato\"]\n",
        "\n",
        "def find_food(food, hungryfor):\n",
        "  for fkjh in food:\n",
        "    if fkjh == \"potato\" :\n",
        "      print(\"Yay! Potato!\")\n",
        "    elif fkjh == \"tomato\" :\n",
        "      print(\"These ain't no potatoes but they're pretty darn snazzy.\")\n",
        "    else:\n",
        "      print(\"What is this abomination?\")\n",
        "\n",
        "find_food(food, hungryfor)"
      ],
      "metadata": {
        "colab": {
          "base_uri": "https://localhost:8080/"
        },
        "id": "-cLjO79_3SfU",
        "outputId": "451f0cdf-c9f7-44cd-b44c-f5385f97b6d2"
      },
      "execution_count": 28,
      "outputs": [
        {
          "output_type": "stream",
          "name": "stdout",
          "text": [
            "Yay! Potato!\n",
            "These ain't no potatoes but they're pretty darn snazzy.\n",
            "What is this abomination?\n",
            "What is this abomination?\n",
            "What is this abomination?\n"
          ]
        }
      ]
    },
    {
      "cell_type": "code",
      "source": [
        "# put your first function call here, and make more code chunks for additional function calls\n",
        "# Maya: I did a lot of writing and calling earlier because I was running a bunch of silly tests for mastery.\n",
        "# Maya: Not a big deal though. I think I've got the hang of calling, so I can do it again!\n",
        "find_fruit(food, hungryfor)"
      ],
      "metadata": {
        "id": "bYdqsfrh6KnE",
        "colab": {
          "base_uri": "https://localhost:8080/"
        },
        "outputId": "471f0e56-1123-412e-b49c-20c4dfe26d68"
      },
      "execution_count": 33,
      "outputs": [
        {
          "output_type": "stream",
          "name": "stdout",
          "text": [
            "No tomatoes here.\n",
            "No tomatoes here.\n",
            "No tomatoes here.\n",
            "No tomatoes here.\n",
            "No tomatoes here.\n"
          ]
        }
      ]
    },
    {
      "cell_type": "code",
      "source": [
        "# This seems to run the \"find_food\" function on the same set of items that was used in my \"first function call.\"\n",
        "# That list was (\"apples\", \"starfruit\", \"mishmush\", \"durian\", \"dragonfruit\") and I don't blame the computer for thinking mishmush is an abomination.\n",
        "# This code-calling mechanism demonstrates that, well, the computer remembers what I wrote. I don't have to rewrite my function twice!\n",
        "find_food(food, hungryfor)"
      ],
      "metadata": {
        "colab": {
          "base_uri": "https://localhost:8080/"
        },
        "id": "KHEYoXLQKHoq",
        "outputId": "7617c10a-ace7-4ce1-db6c-c0e976f62d32"
      },
      "execution_count": 63,
      "outputs": [
        {
          "output_type": "stream",
          "name": "stdout",
          "text": [
            "What is this abomination?\n",
            "What is this abomination?\n",
            "What is this abomination?\n",
            "What is this abomination?\n",
            "What is this abomination?\n"
          ]
        }
      ]
    },
    {
      "cell_type": "code",
      "source": [
        "# \"put your first function call here\" this is what I thought you were asking for originally. I wasn't sure what you were getting at. Sorry.\n",
        "# I felt too proud of myself for writing a few rudimentary lines of code to exclude this. :)\n",
        "# Thanks Internet.\n",
        "# just for funsies:\n",
        "def smoothie_ingredients(fruit):\n",
        "  print(\"three strawberries, \" + fruit + \",\" + \" apple juice\")\n",
        "smoothie_ingredients(\"banana\")"
      ],
      "metadata": {
        "colab": {
          "base_uri": "https://localhost:8080/"
        },
        "id": "k_Foexk32DFd",
        "outputId": "928b02cf-33b1-4fff-86b3-71c127e65922"
      },
      "execution_count": 34,
      "outputs": [
        {
          "output_type": "stream",
          "name": "stdout",
          "text": [
            "three strawberries, banana, apple juice\n"
          ]
        }
      ]
    },
    {
      "cell_type": "markdown",
      "source": [
        "#### Notes\n",
        "1. Once you have run a code chunk in the notebook, it will remember that it has been run.  You don't have to call the function in the same code chunk where the function is defined.  In other words, to call the function with new inputs you can simply make a new code chunk, change the inputs, and call the function.  *You don't have to retype the definition of the function each time.*\n",
        "\n",
        "2. Make sure you clean things up when you're done, so you don't include old code that doesn't work or old incorrect outputs.\n"
      ],
      "metadata": {
        "id": "AMp-a1ym6W7w"
      }
    },
    {
      "cell_type": "markdown",
      "source": [
        "### Problem 2:  the `input()` function\n",
        "\n",
        "(a) Programming gets way more fun when you start to interact with your own programs!  Here is a function that lets you start doing that.  Run the following code and see what happens:\n"
      ],
      "metadata": {
        "id": "R-s9cZ6GYWNX"
      }
    },
    {
      "cell_type": "code",
      "source": [
        "input()\n",
        "print(\"Hello there!\")"
      ],
      "metadata": {
        "id": "IEK8O2qNYkXn",
        "colab": {
          "base_uri": "https://localhost:8080/"
        },
        "outputId": "23acba9a-74f5-464a-8bdd-f40ede35ce63"
      },
      "execution_count": 40,
      "outputs": [
        {
          "output_type": "stream",
          "name": "stdout",
          "text": [
            "Hi?\n",
            "Hello there!\n"
          ]
        }
      ]
    },
    {
      "cell_type": "code",
      "source": [
        "# oh god it's alive"
      ],
      "metadata": {
        "id": "0Qt3jHKzLSnY"
      },
      "execution_count": null,
      "outputs": []
    },
    {
      "cell_type": "markdown",
      "source": [
        "(b) As you just saw, the code waits for you to enter something before it continues.  If you want to actually use the input in the code, you should assign its value to a variable:"
      ],
      "metadata": {
        "id": "sktZu8wWzFF6"
      }
    },
    {
      "cell_type": "code",
      "source": [
        "message = input()\n",
        "print(message)"
      ],
      "metadata": {
        "id": "fMmBkzbyz9Ty",
        "colab": {
          "base_uri": "https://localhost:8080/"
        },
        "outputId": "e0872651-0656-4b95-ea38-4a48421e7e3e"
      },
      "execution_count": 41,
      "outputs": [
        {
          "output_type": "stream",
          "name": "stdout",
          "text": [
            "Don't hurt me. \n",
            "Don't hurt me. \n"
          ]
        }
      ]
    },
    {
      "cell_type": "code",
      "source": [
        "message = input()\n",
        "print(message)"
      ],
      "metadata": {
        "colab": {
          "base_uri": "https://localhost:8080/"
        },
        "id": "cLK1wPJaNc1E",
        "outputId": "256d37ac-f7f7-4ca5-e6ec-b36e54d6f147"
      },
      "execution_count": 42,
      "outputs": [
        {
          "output_type": "stream",
          "name": "stdout",
          "text": [
            "ECHOOOOOO\n",
            "ECHOOOOOO\n"
          ]
        }
      ]
    },
    {
      "cell_type": "markdown",
      "source": [
        "(c) Now you can start interacting.  Write some code that asks the user what they are hungry for (using a print statement), and then takes the user input, and then runs the `find_fruit` function from the previous code block using the user input as the `hungryfor` variable.  Test your code, and then include a few different outputs that demonstrate that the code works."
      ],
      "metadata": {
        "id": "ny41z-dQYmjQ"
      }
    },
    {
      "cell_type": "code",
      "source": [
        "# put code here\n",
        "print(\"What do you want to eat?\")\n",
        "hungryfor = input()\n"
      ],
      "metadata": {
        "id": "SKAVoAZ00xOx",
        "colab": {
          "base_uri": "https://localhost:8080/"
        },
        "outputId": "63fface9-fcd9-471c-8737-68c17607210f"
      },
      "execution_count": 55,
      "outputs": [
        {
          "name": "stdout",
          "output_type": "stream",
          "text": [
            "What do you want to eat?\n",
            "tomato\n"
          ]
        }
      ]
    },
    {
      "cell_type": "code",
      "source": [
        "# run it here, and add more code chunks for more runs\n",
        "print(find_fruit(food, hungryfor))"
      ],
      "metadata": {
        "id": "sQQVP1oa5dR7",
        "colab": {
          "base_uri": "https://localhost:8080/"
        },
        "outputId": "ed2065db-bcee-471a-bfd4-46dc85569f5f"
      },
      "execution_count": 56,
      "outputs": [
        {
          "output_type": "stream",
          "name": "stdout",
          "text": [
            "No tomatoes here.\n",
            "No tomatoes here.\n",
            "No tomatoes here.\n",
            "No tomatoes here.\n",
            "No tomatoes here.\n",
            "None\n"
          ]
        }
      ]
    },
    {
      "cell_type": "code",
      "source": [
        "# no tomato :(\n",
        "hungryfor = input()\n",
        "print(find_fruit(food, hungryfor))"
      ],
      "metadata": {
        "colab": {
          "base_uri": "https://localhost:8080/"
        },
        "id": "JsAlQMbkcAET",
        "outputId": "84362edb-aec1-4945-c54a-51470df49550"
      },
      "execution_count": 104,
      "outputs": [
        {
          "output_type": "stream",
          "name": "stdout",
          "text": [
            "starfruit\n",
            "No tomatoes here.\n",
            "No tomatoes here.\n",
            "No tomatoes here.\n",
            "No tomatoes here.\n",
            "No tomatoes here.\n",
            "None\n"
          ]
        }
      ]
    },
    {
      "cell_type": "markdown",
      "source": [
        "### Problem 3:  ratings  \n",
        "Write a piece of code which prompts a user with the question \"What is your rating? (1-10)\" and then asks for user input.  Let's say the input is 3.  Once the input is received, print out a message that says.\n",
        "\n",
        "\"Your rating is *** .\"\n",
        "\n",
        "Obviously, your program should print the number of stars corresponding to the input!  If the input is 5, it should print\n",
        "\n",
        "\"Your rating is ***** .\"\n",
        "\n",
        "Show at least two outputs of your code."
      ],
      "metadata": {
        "id": "5CWOlHBz0xoZ"
      }
    },
    {
      "cell_type": "code",
      "source": [
        "# put code here\n",
        "print(\"what is your rating? (1-10)\")\n",
        "input()\n"
      ],
      "metadata": {
        "id": "MCWnTAUW2Gin",
        "colab": {
          "base_uri": "https://localhost:8080/",
          "height": 70
        },
        "outputId": "f1b64632-2eff-493d-a23f-c9d52c0e7b45"
      },
      "execution_count": 73,
      "outputs": [
        {
          "name": "stdout",
          "output_type": "stream",
          "text": [
            "what is your rating? (1-10)\n",
            "5\n"
          ]
        },
        {
          "output_type": "execute_result",
          "data": {
            "text/plain": [
              "'5'"
            ],
            "application/vnd.google.colaboratory.intrinsic+json": {
              "type": "string"
            }
          },
          "metadata": {},
          "execution_count": 73
        }
      ]
    },
    {
      "cell_type": "code",
      "source": [
        "string1 = \"*\"\n",
        "print(\"what is your rating? (1-10)\")\n",
        "message = input()\n"
      ],
      "metadata": {
        "colab": {
          "base_uri": "https://localhost:8080/"
        },
        "id": "JRd9FHzJlFac",
        "outputId": "1b706e53-6c6a-46a4-824f-5d18781fcd0e"
      },
      "execution_count": 80,
      "outputs": [
        {
          "name": "stdout",
          "output_type": "stream",
          "text": [
            "what is your rating? (1-10)\n",
            "4\n"
          ]
        }
      ]
    },
    {
      "cell_type": "code",
      "source": [
        "string1 = \"*\"\n",
        "haha = int(input())\n",
        "print(\"your rating is \" + (haha * string1))"
      ],
      "metadata": {
        "colab": {
          "base_uri": "https://localhost:8080/"
        },
        "id": "f6xcNREsoPlH",
        "outputId": "abf0245f-aca2-4487-af97-a6b8e43be53d"
      },
      "execution_count": 101,
      "outputs": [
        {
          "output_type": "stream",
          "name": "stdout",
          "text": [
            "4\n",
            "your rating is ****\n"
          ]
        }
      ]
    },
    {
      "cell_type": "code",
      "source": [
        "string1 = \"*\"\n",
        "haha = int(input())\n",
        "print(\"your rating is \" + (haha * string1))"
      ],
      "metadata": {
        "colab": {
          "base_uri": "https://localhost:8080/"
        },
        "id": "VfKbz0gAv_Gn",
        "outputId": "ced34f91-b68d-4bd5-c930-083939f36ac5"
      },
      "execution_count": 102,
      "outputs": [
        {
          "output_type": "stream",
          "name": "stdout",
          "text": [
            "6\n",
            "your rating is ******\n"
          ]
        }
      ]
    },
    {
      "cell_type": "code",
      "source": [
        "string1 = \"*\"\n",
        "haha = int(input())\n",
        "print(\"your rating is \" + (haha * string1))"
      ],
      "metadata": {
        "colab": {
          "base_uri": "https://localhost:8080/"
        },
        "id": "-fT3cGSDwCJY",
        "outputId": "c3c0bc01-fe94-405e-cbe0-e74ea087b8f1"
      },
      "execution_count": 103,
      "outputs": [
        {
          "output_type": "stream",
          "name": "stdout",
          "text": [
            "8\n",
            "your rating is ********\n"
          ]
        }
      ]
    },
    {
      "cell_type": "code",
      "source": [
        "# you might have to copy the code to show another output\n",
        "# (unless you figure out another way to do it)"
      ],
      "metadata": {
        "id": "nxm67oCk8Ukn"
      },
      "execution_count": null,
      "outputs": []
    },
    {
      "cell_type": "markdown",
      "source": [
        "You do not have to do this as part of the assignment, but one thing to think about with any code that has **interactivity** is that you want to make it **robust**.  This means you should imagine someone is *trying* to break your code, and you should try to make it as indestructible as possible.\n",
        "\n",
        "What will happen to your code if someone enters 3.5?  Or -12?  Or \"nonsense\"?  Test it and see.  Think about how you might guard against errors.\n"
      ],
      "metadata": {
        "id": "VRfc9puT2yac"
      }
    },
    {
      "cell_type": "code",
      "source": [
        "string1 = \"*\"\n",
        "haha = int(input())\n",
        "print(\"your rating is \" + (haha * string1))"
      ],
      "metadata": {
        "colab": {
          "base_uri": "https://localhost:8080/",
          "height": 228
        },
        "id": "PQHYjHbx5Qjg",
        "outputId": "ccc76cbe-8291-48ab-fd8e-6a95562e9c6e"
      },
      "execution_count": 105,
      "outputs": [
        {
          "name": "stdout",
          "output_type": "stream",
          "text": [
            "3.14159\n"
          ]
        },
        {
          "output_type": "error",
          "ename": "ValueError",
          "evalue": "invalid literal for int() with base 10: '3.14159'",
          "traceback": [
            "\u001b[0;31m---------------------------------------------------------------------------\u001b[0m",
            "\u001b[0;31mValueError\u001b[0m                                Traceback (most recent call last)",
            "\u001b[0;32m<ipython-input-105-b78bdd61a8d4>\u001b[0m in \u001b[0;36m<cell line: 2>\u001b[0;34m()\u001b[0m\n\u001b[1;32m      1\u001b[0m \u001b[0mstring1\u001b[0m \u001b[0;34m=\u001b[0m \u001b[0;34m\"*\"\u001b[0m\u001b[0;34m\u001b[0m\u001b[0;34m\u001b[0m\u001b[0m\n\u001b[0;32m----> 2\u001b[0;31m \u001b[0mhaha\u001b[0m \u001b[0;34m=\u001b[0m \u001b[0mint\u001b[0m\u001b[0;34m(\u001b[0m\u001b[0minput\u001b[0m\u001b[0;34m(\u001b[0m\u001b[0;34m)\u001b[0m\u001b[0;34m)\u001b[0m\u001b[0;34m\u001b[0m\u001b[0;34m\u001b[0m\u001b[0m\n\u001b[0m\u001b[1;32m      3\u001b[0m \u001b[0mprint\u001b[0m\u001b[0;34m(\u001b[0m\u001b[0;34m\"your rating is \"\u001b[0m \u001b[0;34m+\u001b[0m \u001b[0;34m(\u001b[0m\u001b[0mhaha\u001b[0m \u001b[0;34m*\u001b[0m \u001b[0mstring1\u001b[0m\u001b[0;34m)\u001b[0m\u001b[0;34m)\u001b[0m\u001b[0;34m\u001b[0m\u001b[0;34m\u001b[0m\u001b[0m\n",
            "\u001b[0;31mValueError\u001b[0m: invalid literal for int() with base 10: '3.14159'"
          ]
        }
      ]
    },
    {
      "cell_type": "code",
      "source": [
        "string1 = \"*\"\n",
        "haha = int(input())\n",
        "print(\"your rating is \" + (haha * string1))"
      ],
      "metadata": {
        "colab": {
          "base_uri": "https://localhost:8080/",
          "height": 228
        },
        "id": "2GP1hkuB5VDO",
        "outputId": "93c4d2b0-e7b8-433b-c890-91b6668b1e12"
      },
      "execution_count": 106,
      "outputs": [
        {
          "name": "stdout",
          "output_type": "stream",
          "text": [
            "ADSFJKL;SAFD;LJKAFSDL;JKFDASJLK;AFSDJ;LK;LKJSDF;LKJASDF;FDALKJS\n"
          ]
        },
        {
          "output_type": "error",
          "ename": "ValueError",
          "evalue": "invalid literal for int() with base 10: 'ADSFJKL;SAFD;LJKAFSDL;JKFDASJLK;AFSDJ;LK;LKJSDF;LKJASDF;FDALKJS'",
          "traceback": [
            "\u001b[0;31m---------------------------------------------------------------------------\u001b[0m",
            "\u001b[0;31mValueError\u001b[0m                                Traceback (most recent call last)",
            "\u001b[0;32m<ipython-input-106-b78bdd61a8d4>\u001b[0m in \u001b[0;36m<cell line: 2>\u001b[0;34m()\u001b[0m\n\u001b[1;32m      1\u001b[0m \u001b[0mstring1\u001b[0m \u001b[0;34m=\u001b[0m \u001b[0;34m\"*\"\u001b[0m\u001b[0;34m\u001b[0m\u001b[0;34m\u001b[0m\u001b[0m\n\u001b[0;32m----> 2\u001b[0;31m \u001b[0mhaha\u001b[0m \u001b[0;34m=\u001b[0m \u001b[0mint\u001b[0m\u001b[0;34m(\u001b[0m\u001b[0minput\u001b[0m\u001b[0;34m(\u001b[0m\u001b[0;34m)\u001b[0m\u001b[0;34m)\u001b[0m\u001b[0;34m\u001b[0m\u001b[0;34m\u001b[0m\u001b[0m\n\u001b[0m\u001b[1;32m      3\u001b[0m \u001b[0mprint\u001b[0m\u001b[0;34m(\u001b[0m\u001b[0;34m\"your rating is \"\u001b[0m \u001b[0;34m+\u001b[0m \u001b[0;34m(\u001b[0m\u001b[0mhaha\u001b[0m \u001b[0;34m*\u001b[0m \u001b[0mstring1\u001b[0m\u001b[0;34m)\u001b[0m\u001b[0;34m)\u001b[0m\u001b[0;34m\u001b[0m\u001b[0;34m\u001b[0m\u001b[0m\n",
            "\u001b[0;31mValueError\u001b[0m: invalid literal for int() with base 10: 'ADSFJKL;SAFD;LJKAFSDL;JKFDASJLK;AFSDJ;LK;LKJSDF;LKJASDF;FDALKJS'"
          ]
        }
      ]
    }
  ]
}