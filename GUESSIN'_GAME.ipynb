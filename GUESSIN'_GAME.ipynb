{
  "nbformat": 4,
  "nbformat_minor": 0,
  "metadata": {
    "colab": {
      "provenance": [],
      "authorship_tag": "ABX9TyMULCS2M3HnMF5vGPlBupZi",
      "include_colab_link": true
    },
    "kernelspec": {
      "name": "python3",
      "display_name": "Python 3"
    },
    "language_info": {
      "name": "python"
    }
  },
  "cells": [
    {
      "cell_type": "markdown",
      "metadata": {
        "id": "view-in-github",
        "colab_type": "text"
      },
      "source": [
        "<a href=\"https://colab.research.google.com/github/mayooueidat-uva/DS1002-S24/blob/main/GUESSIN'_GAME.ipynb\" target=\"_parent\"><img src=\"https://colab.research.google.com/assets/colab-badge.svg\" alt=\"Open In Colab\"/></a>"
      ]
    },
    {
      "cell_type": "markdown",
      "source": [
        "**Importing Numpy**"
      ],
      "metadata": {
        "id": "AC7F2kw8PhL_"
      }
    },
    {
      "cell_type": "markdown",
      "source": [
        "*The game does not work without the package.*\n",
        "*To import the package, hit the play button to run the code.*\n",
        "*The appears when you hover over the number in the [brackets] next to the code.*"
      ],
      "metadata": {
        "id": "O9lfCSSWV-ks"
      }
    },
    {
      "cell_type": "code",
      "execution_count": null,
      "metadata": {
        "colab": {
          "base_uri": "https://localhost:8080/",
          "height": 35
        },
        "id": "rBTDt_HPoACU",
        "outputId": "f999b9e1-8b60-4765-ca0d-4820f644581e"
      },
      "outputs": [
        {
          "output_type": "execute_result",
          "data": {
            "text/plain": [
              "'1.23.5'"
            ],
            "application/vnd.google.colaboratory.intrinsic+json": {
              "type": "string"
            }
          },
          "metadata": {},
          "execution_count": 21
        }
      ],
      "source": [
        "import numpy as np\n",
        "np.__version__\n",
        "# I had to look up how to do the \"version\" thing."
      ]
    },
    {
      "cell_type": "markdown",
      "source": [
        "**Game begins below**"
      ],
      "metadata": {
        "id": "ABjkDbkMPbK7"
      }
    },
    {
      "cell_type": "markdown",
      "source": [
        "*To begin the game, hit the play button to run the code as you did while importing the package.*\n",
        "*Pay attention to what the computer tells you in the instructions, which will appear when the code is ran.*"
      ],
      "metadata": {
        "id": "fCuX42cnQyFk"
      }
    },
    {
      "cell_type": "code",
      "source": [
        "# Instructions (1)\n",
        "print(\"To play, you must guess the number the computer is thinking.\")\n",
        "print(\"Hit the 'play' button on the code as you have done here.\")\n",
        "print(\"You will be prompted with a text box where you can enter your guess.\")"
      ],
      "metadata": {
        "colab": {
          "base_uri": "https://localhost:8080/"
        },
        "id": "mM8mm705PVd-",
        "outputId": "02d8510d-458a-4580-b201-8237f9e7c141"
      },
      "execution_count": null,
      "outputs": [
        {
          "output_type": "stream",
          "name": "stdout",
          "text": [
            "To play, you must guess the number the computer is thinking.\n",
            "Hit the 'play' button on the code as you have done here.\n",
            "You will be prompted with a text box where you can enter your guess.\n"
          ]
        }
      ]
    },
    {
      "cell_type": "code",
      "source": [
        "# Instructions (2)\n",
        "print(\"See how easy the textbox was to use?\")\n",
        "print(\"All you gotta do is type in a number BETWEEN zero (0) and one hundred (100).\")\n",
        "print(\"Type your guess IN the text box.\")\n",
        "print(\"Is that easy enough?\")\n",
        "x = input()\n",
        "if x == \"no\" or \"naw\" or \"i don't get it\":\n",
        "  print(\"That doesn't matter! I don't care. Let's play.\")\n",
        "else:\n",
        "  print(\"good!\")"
      ],
      "metadata": {
        "colab": {
          "base_uri": "https://localhost:8080/"
        },
        "id": "8t_kIqZiO3IP",
        "outputId": "7448c559-f8d5-4b39-f8d1-765645a9bff7"
      },
      "execution_count": null,
      "outputs": [
        {
          "output_type": "stream",
          "name": "stdout",
          "text": [
            "See how easy the textbox was to use?\n",
            "All you gotta do is type in a number BETWEEN zero (0) and one hundred (100).\n",
            "Type your guess IN the text box.\n",
            "Is that easy enough?\n",
            "no\n",
            "That doesn't matter! I don't care. Let's play.\n"
          ]
        }
      ]
    },
    {
      "cell_type": "code",
      "source": [
        "# The actual code\n",
        "success = False\n",
        "while success == False:\n",
        "  n = input()\n",
        "  xyz = int(np.random.randint(1, 100))\n",
        "  print(xyz)\n",
        "  try:\n",
        "    if int(n) > xyz and int(n) < 100 and int(n) > 0:\n",
        "      print(\"Too high!\")\n",
        "    elif int(n) < xyz and int(n) < 100 and int(n) > 0:\n",
        "      print(\"Too low!\")\n",
        "    elif int(n) == xyz and int(n) < 100 and int(n) > 0:\n",
        "      print(\"You got it!\")\n",
        "      success = True\n",
        "    elif int(n) > 100 or int(n) < 0:\n",
        "      print(\"That value's off limits! Try another number BETWEEN 0 to 100.\")\n",
        "    elif int(n) == 100 or int(n) == 0:\n",
        "      print(\"I said 'BETWEEN O AND 100!' NOT 'FROM!'\")\n",
        "      print(\"DON'T HUMANS KNOW HOW TO READ OR WHATEVER?!\")\n",
        "  except:\n",
        "    print(\"I can't even comprehend that! Numerical values only.\")"
      ],
      "metadata": {
        "id": "UGHi6RBXrBNT"
      },
      "execution_count": null,
      "outputs": []
    }
  ]
}