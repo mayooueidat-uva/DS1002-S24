{
  "nbformat": 4,
  "nbformat_minor": 0,
  "metadata": {
    "colab": {
      "provenance": [],
      "authorship_tag": "ABX9TyMV0IW6YE4VVJHqBwJag7Oa",
      "include_colab_link": true
    },
    "kernelspec": {
      "name": "python3",
      "display_name": "Python 3"
    },
    "language_info": {
      "name": "python"
    }
  },
  "cells": [
    {
      "cell_type": "markdown",
      "metadata": {
        "id": "view-in-github",
        "colab_type": "text"
      },
      "source": [
        "<a href=\"https://colab.research.google.com/github/mayooueidat-uva/DS1002-S24/blob/main/GUESSIN'_GAME.ipynb\" target=\"_parent\"><img src=\"https://colab.research.google.com/assets/colab-badge.svg\" alt=\"Open In Colab\"/></a>"
      ]
    },
    {
      "cell_type": "markdown",
      "source": [
        "**Importing Numpy**"
      ],
      "metadata": {
        "id": "AC7F2kw8PhL_"
      }
    },
    {
      "cell_type": "markdown",
      "source": [
        "*The game does not work without the package.*\n",
        "*To import the package, hit the play button to run the code.*\n",
        "*The appears when you hover over the number in the [brackets] next to the code.*"
      ],
      "metadata": {
        "id": "O9lfCSSWV-ks"
      }
    },
    {
      "cell_type": "code",
      "execution_count": null,
      "metadata": {
        "colab": {
          "base_uri": "https://localhost:8080/",
          "height": 35
        },
        "id": "rBTDt_HPoACU",
        "outputId": "1bf47f71-5183-48c5-ad56-37beb982c907"
      },
      "outputs": [
        {
          "output_type": "execute_result",
          "data": {
            "text/plain": [
              "'1.23.5'"
            ],
            "application/vnd.google.colaboratory.intrinsic+json": {
              "type": "string"
            }
          },
          "metadata": {},
          "execution_count": 114
        }
      ],
      "source": [
        "import numpy as np\n",
        "np.__version__\n",
        "# I had to look up how to do the \"version\" thing."
      ]
    },
    {
      "cell_type": "markdown",
      "source": [
        "**Instructions and Game begin below**\n",
        "\n"
      ],
      "metadata": {
        "id": "ABjkDbkMPbK7"
      }
    },
    {
      "cell_type": "markdown",
      "source": [
        "*To begin the game, hit the play button to run the code as you did while importing the package.*\n",
        "*Pay attention to what the computer tells you in the instructions.*"
      ],
      "metadata": {
        "id": "fCuX42cnQyFk"
      }
    },
    {
      "cell_type": "code",
      "source": [
        "# Instructions (1)\n",
        "print(\"To play, you must guess the number the computer is thinking.\")\n",
        "print(\"Hit the 'play' button on the code as you have done here.\")\n",
        "print(\"You will be prompted with a text box where you can enter your guess.\")"
      ],
      "metadata": {
        "id": "mM8mm705PVd-"
      },
      "execution_count": null,
      "outputs": []
    },
    {
      "cell_type": "code",
      "source": [
        "# Textbox tutorial\n",
        "print(\"Let's try it.\")\n",
        "input()\n",
        "print(\"See? I knew you could do this.\")"
      ],
      "metadata": {
        "id": "6E1BbIioYIDj"
      },
      "execution_count": null,
      "outputs": []
    },
    {
      "cell_type": "code",
      "source": [
        "# Instructions (2)\n",
        "print(\"See how easy the textbox was to use?\")\n",
        "print(\"All you gotta do is type in a number BETWEEN zero (0) and one hundred (100).\")\n",
        "print(\"Type your guess IN the text box.\")\n",
        "print(\"Is that easy enough?\")\n",
        "x = input()\n",
        "print(\"I don't care! Let's play.\")"
      ],
      "metadata": {
        "id": "8t_kIqZiO3IP"
      },
      "execution_count": null,
      "outputs": []
    },
    {
      "cell_type": "code",
      "source": [
        "# The actual game.\n",
        "success = False\n",
        "while success == False:\n",
        "  n = input()\n",
        "  xyz = int(np.random.randint(1, 100))\n",
        "  print(xyz)\n",
        "  try:\n",
        "    if int(n) > xyz and int(n) < 100 and int(n) > 0:\n",
        "      print(\"Too high!\")\n",
        "    elif int(n) < xyz and int(n) < 100 and int(n) > 0:\n",
        "      print(\"Too low!\")\n",
        "    elif int(n) == xyz and int(n) < 100 and int(n) > 0:\n",
        "      print(\"You got it!\")\n",
        "      success = True\n",
        "    elif int(n) > 100 or int(n) < 0:\n",
        "      print(\"That value's off limits! Try another number BETWEEN 0 to 100.\")\n",
        "    elif int(n) == 100 or int(n) == 0:\n",
        "      print(\"I said 'BETWEEN O AND 100!' NOT 'FROM!'\")\n",
        "      print(\"DON'T HUMANS KNOW HOW TO READ OR WHATEVER?!\")\n",
        "  except:\n",
        "    print(\"I can't even comprehend that! Numerical values only.\")"
      ],
      "metadata": {
        "id": "UGHi6RBXrBNT"
      },
      "execution_count": null,
      "outputs": []
    }
  ]
}