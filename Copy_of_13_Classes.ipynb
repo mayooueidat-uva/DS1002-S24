{
  "nbformat": 4,
  "nbformat_minor": 0,
  "metadata": {
    "colab": {
      "provenance": [],
      "include_colab_link": true
    },
    "kernelspec": {
      "name": "python3",
      "display_name": "Python 3"
    },
    "language_info": {
      "name": "python"
    }
  },
  "cells": [
    {
      "cell_type": "markdown",
      "metadata": {
        "id": "view-in-github",
        "colab_type": "text"
      },
      "source": [
        "<a href=\"https://colab.research.google.com/github/mayooueidat-uva/DS1002-S24/blob/main/Copy_of_13_Classes.ipynb\" target=\"_parent\"><img src=\"https://colab.research.google.com/assets/colab-badge.svg\" alt=\"Open In Colab\"/></a>"
      ]
    },
    {
      "cell_type": "markdown",
      "source": [
        "## Assignment:  Classes\n",
        "### Due Sunday 28 April at 10pm"
      ],
      "metadata": {
        "id": "5Vy93BSp9Tum"
      }
    },
    {
      "cell_type": "markdown",
      "source": [
        "1.  Define a class called `Person` that has attributes `lastName`, `firstName`, `mother`, and `father`.  Both `mother` and `father` should have default value `unknown`.\n",
        "\n",
        "  Include a `__str__()` function that returns a string of the form '`firstName` `lastName`'.\n",
        "\n",
        "  Include a `__repr__()` function that returns a string that can be evaluated to recreate the `Person` object.\n",
        "\n"
      ],
      "metadata": {
        "id": "vcj5XQAI9Wsb"
      }
    },
    {
      "cell_type": "code",
      "source": [
        "class Person:\n",
        "  def __init__(attribute, firstName, lastName, mother=\"unknown\", father=\"unknown\"):\n",
        "    attribute.firstName = firstName\n",
        "    attribute.lastName = lastName\n",
        "    attribute.mother = mother\n",
        "    attribute.father = father\n",
        "\n",
        "  def __str__(attribute):\n",
        "    return f'{attribute.firstName} {attribute.lastName}'\n",
        "\n",
        "  def __repr__(attribute):\n",
        "    return (f'{attribute.firstName} {attribute.lastName}; {attribute.mother} and {attribute.father} are their parents.')"
      ],
      "metadata": {
        "id": "mjHDwHv3EpVe"
      },
      "execution_count": 1,
      "outputs": []
    },
    {
      "cell_type": "markdown",
      "source": [
        "Create a person (i.e., a `Person` object) called `p` with unknown parents.  (You will need to give your person a first and last name.) Check the type of `p`.  Include all inputs and outputs."
      ],
      "metadata": {
        "id": "-ppMsEIVHINl"
      }
    },
    {
      "cell_type": "code",
      "source": [
        "p = Person(\"Valentinez\", \"Doitzel-Kaiser III\")\n",
        "print(type(p))"
      ],
      "metadata": {
        "id": "5bwid_6gHIBH",
        "colab": {
          "base_uri": "https://localhost:8080/"
        },
        "outputId": "c09f0002-7fb9-4593-8065-144907f43dcb"
      },
      "execution_count": 2,
      "outputs": [
        {
          "output_type": "stream",
          "name": "stdout",
          "text": [
            "<class '__main__.Person'>\n"
          ]
        }
      ]
    },
    {
      "cell_type": "markdown",
      "source": [
        "Verify that your `__str__` and `__repr__` functions are doing what they are supposed to do.  Include all inputs and outputs."
      ],
      "metadata": {
        "id": "Z6zlUC3xRtal"
      }
    },
    {
      "cell_type": "code",
      "source": [
        "cherise = Person(\"Cherise\", \"Alexander\", \"Anisa Aslan\", \"Alan Alexander\")\n",
        "print(str(cherise))\n",
        "print(repr(cherise))"
      ],
      "metadata": {
        "colab": {
          "base_uri": "https://localhost:8080/"
        },
        "id": "H-7_aJKrxPwz",
        "outputId": "162ecb76-d016-4c3b-f018-f0ad6d27fa76"
      },
      "execution_count": 3,
      "outputs": [
        {
          "output_type": "stream",
          "name": "stdout",
          "text": [
            "Cherise Alexander\n",
            "Cherise Alexander; Anisa Aslan and Alan Alexander are their parents.\n"
          ]
        }
      ]
    },
    {
      "cell_type": "markdown",
      "source": [
        "Suppose the mother of `p` has been found and is named Taylor Swift.  Create a new person named Taylor Swift, and make her the mother of `p`:\n",
        "\n",
        "```\n",
        "> p.mother\n",
        "'Taylor Swift'\n",
        "```"
      ],
      "metadata": {
        "id": "1mOAThQiHzoQ"
      }
    },
    {
      "cell_type": "code",
      "source": [
        "p = Person(\"Valentinez\", \"Doitzel-Kaiser III\", \"Taylor Swift\")\n",
        "p.mother"
      ],
      "metadata": {
        "id": "NYbDOorpHymz",
        "colab": {
          "base_uri": "https://localhost:8080/",
          "height": 35
        },
        "outputId": "546b4945-de79-4343-e6b4-3e93c3a835fb"
      },
      "execution_count": 4,
      "outputs": [
        {
          "output_type": "execute_result",
          "data": {
            "text/plain": [
              "'Taylor Swift'"
            ],
            "application/vnd.google.colaboratory.intrinsic+json": {
              "type": "string"
            }
          },
          "metadata": {},
          "execution_count": 4
        }
      ]
    },
    {
      "cell_type": "markdown",
      "source": [
        "2.  Add some methods to your class.  Start by copying the `class` definition you already wrote.  Then, inside the `class` definition:\n",
        "\n",
        "  (a) Write a method called `unknownParent()` which returns `True` if any parent is 'unknown' and `False` otherwise.\n",
        "\n",
        "  (b) Write a method called `maternalGrandmother()` which returns the mother's mother.  If the mother is unknown, it should return 'unknown'.\n",
        "\n"
      ],
      "metadata": {
        "id": "1g1pcrmFHzGh"
      }
    },
    {
      "cell_type": "code",
      "source": [
        "# person class\n",
        "class Person:\n",
        "  def __init__(attribute, firstName, lastName, mother=\"unknown\", father=\"unknown\",\n",
        "               maternalGramma=\"unknown\"):\n",
        "    attribute.firstName = firstName\n",
        "    attribute.lastName = lastName\n",
        "    attribute.mother = mother\n",
        "    attribute.father = father\n",
        "    attribute.maternalGramma = maternalGramma\n",
        "\n",
        "  def __repr__(attribute):\n",
        "    return f'''The person whose data you are retrieving is named\n",
        "    {attribute.firstName} {attribute.lastName},\n",
        "    and {attribute.mother} and {attribute.father} are their parents.'''\n",
        "\n",
        "# maternal grandmother method\n",
        "  def maternalGrandmother(attribute):\n",
        "    if attribute.maternalGramma==\"unknown\":\n",
        "      return print(\"unknown\")\n",
        "    else:\n",
        "      return print((attribute.maternalGramma))\n",
        "\n",
        "# unknown parent method\n",
        "  def unknownParent(attribute):\n",
        "    if attribute.father==\"unknown\" or attribute.mother==\"unknown\":\n",
        "      print(\"True\")\n",
        "    else:\n",
        "      return print(\"False\")"
      ],
      "metadata": {
        "id": "7mIxJGwwKTpv"
      },
      "execution_count": 5,
      "outputs": []
    },
    {
      "cell_type": "markdown",
      "source": [
        "Create enough `Person` objects to test whether your methods are working properly.  Show all your inputs and outputs.  It is up to you to demonstrate that you have thoroughly tested the code.  You may use additional code and/or text chunks if it helps."
      ],
      "metadata": {
        "id": "l9-4gxd8FxAQ"
      }
    },
    {
      "cell_type": "code",
      "source": [
        "# Person 1"
      ],
      "metadata": {
        "id": "Xztw2dY-AKqb"
      },
      "execution_count": 6,
      "outputs": []
    },
    {
      "cell_type": "code",
      "source": [
        "p = Person(\"I\", \"Love\", \"you\", \"so\", \"much\")\n",
        "p"
      ],
      "metadata": {
        "id": "gX1qpcKzFwoZ",
        "colab": {
          "base_uri": "https://localhost:8080/"
        },
        "outputId": "8a8ff323-7ea8-42d0-90c8-ac1c6b66692e"
      },
      "execution_count": 7,
      "outputs": [
        {
          "output_type": "execute_result",
          "data": {
            "text/plain": [
              "The person whose data you are retrieving is named \n",
              "    I Love, \n",
              "    and you and so are their parents."
            ]
          },
          "metadata": {},
          "execution_count": 7
        }
      ]
    },
    {
      "cell_type": "code",
      "source": [
        "p.unknownParent()"
      ],
      "metadata": {
        "colab": {
          "base_uri": "https://localhost:8080/"
        },
        "id": "4Ts7o3Dd-QE-",
        "outputId": "541231cd-60f1-400b-a083-33f6be013951"
      },
      "execution_count": 8,
      "outputs": [
        {
          "output_type": "stream",
          "name": "stdout",
          "text": [
            "False\n"
          ]
        }
      ]
    },
    {
      "cell_type": "code",
      "source": [
        "p.maternalGrandmother()"
      ],
      "metadata": {
        "colab": {
          "base_uri": "https://localhost:8080/"
        },
        "id": "iTqT4_PP-Tzh",
        "outputId": "8feb2400-391c-49b4-b85e-3bf6d9a4ee0a"
      },
      "execution_count": 9,
      "outputs": [
        {
          "output_type": "stream",
          "name": "stdout",
          "text": [
            "much\n"
          ]
        }
      ]
    },
    {
      "cell_type": "code",
      "source": [
        "# Person 2"
      ],
      "metadata": {
        "id": "HF-9UsmEAMLY"
      },
      "execution_count": 10,
      "outputs": []
    },
    {
      "cell_type": "code",
      "source": [
        "v = Person(\"Valentinez\", \"Doitzel-Kaiser III\", \"Rem\")\n",
        "v"
      ],
      "metadata": {
        "colab": {
          "base_uri": "https://localhost:8080/"
        },
        "id": "fuVtPWVJANQN",
        "outputId": "d396ac2f-acb8-43cc-b713-ad56cb3bad70"
      },
      "execution_count": 11,
      "outputs": [
        {
          "output_type": "execute_result",
          "data": {
            "text/plain": [
              "The person whose data you are retrieving is named \n",
              "    Valentinez Doitzel-Kaiser III, \n",
              "    and Rem and unknown are their parents."
            ]
          },
          "metadata": {},
          "execution_count": 11
        }
      ]
    },
    {
      "cell_type": "code",
      "source": [
        "v.unknownParent()"
      ],
      "metadata": {
        "colab": {
          "base_uri": "https://localhost:8080/"
        },
        "id": "MqC3e3WgW6TM",
        "outputId": "f98d7771-f0fc-4759-e635-956a5805d336"
      },
      "execution_count": 12,
      "outputs": [
        {
          "output_type": "stream",
          "name": "stdout",
          "text": [
            "True\n"
          ]
        }
      ]
    },
    {
      "cell_type": "code",
      "source": [
        "v.maternalGrandmother()"
      ],
      "metadata": {
        "colab": {
          "base_uri": "https://localhost:8080/"
        },
        "id": "Cx0rffgHZXJ5",
        "outputId": "ae849e27-e410-430c-edeb-455b3869dfd5"
      },
      "execution_count": 13,
      "outputs": [
        {
          "output_type": "stream",
          "name": "stdout",
          "text": [
            "unknown\n"
          ]
        }
      ]
    },
    {
      "cell_type": "code",
      "source": [
        "# Person 3"
      ],
      "metadata": {
        "id": "KduTZ89vdpYO"
      },
      "execution_count": 14,
      "outputs": []
    },
    {
      "cell_type": "code",
      "source": [
        "ts = Person(\"taylor\", \"swift jr\", \"Taylor Swift\", maternalGramma=\"sara\")\n",
        "ts"
      ],
      "metadata": {
        "colab": {
          "base_uri": "https://localhost:8080/"
        },
        "id": "KAuFVW8mdn2O",
        "outputId": "e647f0ab-4b05-4673-ae92-d23629d7cf65"
      },
      "execution_count": 15,
      "outputs": [
        {
          "output_type": "execute_result",
          "data": {
            "text/plain": [
              "The person whose data you are retrieving is named \n",
              "    taylor swift jr, \n",
              "    and Taylor Swift and unknown are their parents."
            ]
          },
          "metadata": {},
          "execution_count": 15
        }
      ]
    },
    {
      "cell_type": "code",
      "source": [
        "ts.unknownParent()"
      ],
      "metadata": {
        "colab": {
          "base_uri": "https://localhost:8080/"
        },
        "id": "Ojm0qTzZdrPF",
        "outputId": "0c7f2f59-22bb-4858-d811-38882eefe0ad"
      },
      "execution_count": 16,
      "outputs": [
        {
          "output_type": "stream",
          "name": "stdout",
          "text": [
            "True\n"
          ]
        }
      ]
    },
    {
      "cell_type": "code",
      "source": [
        "ts.maternalGrandmother()"
      ],
      "metadata": {
        "colab": {
          "base_uri": "https://localhost:8080/"
        },
        "id": "TC04wgUxdsnP",
        "outputId": "cef832b6-d435-48bd-f1f0-8581dc4092b8"
      },
      "execution_count": 17,
      "outputs": [
        {
          "output_type": "stream",
          "name": "stdout",
          "text": [
            "sara\n"
          ]
        }
      ]
    },
    {
      "cell_type": "code",
      "source": [
        "# Person 4"
      ],
      "metadata": {
        "id": "vqxAPXeMsOzr"
      },
      "execution_count": 18,
      "outputs": []
    },
    {
      "cell_type": "code",
      "source": [
        "maya = Person(\"Maya\", \"Uwaydat\", \"Sami\", \"Nahed\")\n",
        "maya"
      ],
      "metadata": {
        "colab": {
          "base_uri": "https://localhost:8080/"
        },
        "id": "0s88cP9osOol",
        "outputId": "6b2d26cc-6abe-4e26-db98-ab6f7e16be31"
      },
      "execution_count": 19,
      "outputs": [
        {
          "output_type": "execute_result",
          "data": {
            "text/plain": [
              "The person whose data you are retrieving is named \n",
              "    Maya Uwaydat, \n",
              "    and Sami and Nahed are their parents."
            ]
          },
          "metadata": {},
          "execution_count": 19
        }
      ]
    },
    {
      "cell_type": "code",
      "source": [
        "maya.unknownParent()"
      ],
      "metadata": {
        "colab": {
          "base_uri": "https://localhost:8080/"
        },
        "id": "NyJNPC83v3DR",
        "outputId": "12f7ff78-ffe2-4cd5-b8e1-b6014abe2a2a"
      },
      "execution_count": 20,
      "outputs": [
        {
          "output_type": "stream",
          "name": "stdout",
          "text": [
            "False\n"
          ]
        }
      ]
    },
    {
      "cell_type": "code",
      "source": [
        "maya.maternalGrandmother()\n",
        "# (i know who my maternal grandmother is, but i don't know her name...)"
      ],
      "metadata": {
        "colab": {
          "base_uri": "https://localhost:8080/"
        },
        "id": "roEt_Pbvv2-z",
        "outputId": "460f5865-a6e2-430e-9785-6d0b6e2319bf"
      },
      "execution_count": 21,
      "outputs": [
        {
          "output_type": "stream",
          "name": "stdout",
          "text": [
            "unknown\n"
          ]
        }
      ]
    }
  ]
}