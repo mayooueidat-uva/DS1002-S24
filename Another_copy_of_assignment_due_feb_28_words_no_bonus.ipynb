{
  "nbformat": 4,
  "nbformat_minor": 0,
  "metadata": {
    "colab": {
      "provenance": [],
      "authorship_tag": "ABX9TyPZjK5g/QR4DsA4SvOtekjy",
      "include_colab_link": true
    },
    "kernelspec": {
      "name": "python3",
      "display_name": "Python 3"
    },
    "language_info": {
      "name": "python"
    }
  },
  "cells": [
    {
      "cell_type": "markdown",
      "metadata": {
        "id": "view-in-github",
        "colab_type": "text"
      },
      "source": [
        "<a href=\"https://colab.research.google.com/github/mayooueidat-uva/DS1002-S24/blob/main/Another_copy_of_assignment_due_feb_28_words_no_bonus.ipynb\" target=\"_parent\"><img src=\"https://colab.research.google.com/assets/colab-badge.svg\" alt=\"Open In Colab\"/></a>"
      ]
    },
    {
      "cell_type": "markdown",
      "source": [
        "I worked with Kyoka Trepka. (I referred to her notebook to help me with one of the histograms because I was stuck. Learning how to do the first histogram helped me with the subsequent histogram, too.)\n",
        "Jonathan Dorsey and I were in contact during the duration of this assignment, but we ended up working independently."
      ],
      "metadata": {
        "id": "BPIvRGRdbRWO"
      }
    },
    {
      "cell_type": "markdown",
      "source": [
        "**I highly recommend you look a the resources I posted next to my code.** I want to be transparent about the stuff I've figured out by myself from your notebooks and the stuff I've derived from outside sources."
      ],
      "metadata": {
        "id": "1tHSNz4Gg1Ib"
      }
    },
    {
      "cell_type": "markdown",
      "source": [
        "**The actual assignment.**"
      ],
      "metadata": {
        "id": "N56aVhaGSoPs"
      }
    },
    {
      "cell_type": "code",
      "execution_count": null,
      "metadata": {
        "colab": {
          "base_uri": "https://localhost:8080/"
        },
        "id": "oZsoVKnyBceh",
        "outputId": "df1c88c2-0ba9-41d1-d246-7a12ac047986"
      },
      "outputs": [
        {
          "output_type": "stream",
          "name": "stdout",
          "text": [
            "Requirement already satisfied: english_words in /usr/local/lib/python3.10/dist-packages (2.0.1)\n"
          ]
        }
      ],
      "source": [
        "!pip install english_words\n",
        "from english_words import get_english_words_set\n",
        "words = get_english_words_set(['web2'], lower=True)"
      ]
    },
    {
      "cell_type": "code",
      "source": [
        "# getting a sense of the sheer magnitude of this list\n",
        "list(words)\n",
        "wordlist_set = words\n",
        "listLength = len(wordlist_set)\n",
        "len(wordlist_set)"
      ],
      "metadata": {
        "colab": {
          "base_uri": "https://localhost:8080/"
        },
        "id": "JBfGb1e5Zflq",
        "outputId": "f51adee6-35f6-4445-feb5-9aa5012cf394"
      },
      "execution_count": null,
      "outputs": [
        {
          "output_type": "execute_result",
          "data": {
            "text/plain": [
              "234450"
            ]
          },
          "metadata": {},
          "execution_count": 9
        }
      ]
    },
    {
      "cell_type": "code",
      "source": [
        "# ewww wait wordset_list is a set\n",
        "# converting wordlist to a list\n",
        "wordlist = list(wordlist_set)\n",
        "type(wordlist)"
      ],
      "metadata": {
        "colab": {
          "base_uri": "https://localhost:8080/"
        },
        "id": "wZu2msNWm83i",
        "outputId": "3475824e-32ef-4a9b-f3b1-13178b90e949"
      },
      "execution_count": null,
      "outputs": [
        {
          "output_type": "execute_result",
          "data": {
            "text/plain": [
              "list"
            ]
          },
          "metadata": {},
          "execution_count": 10
        }
      ]
    },
    {
      "cell_type": "code",
      "source": [
        "# first ten words\n",
        "wordlist[:10]"
      ],
      "metadata": {
        "colab": {
          "base_uri": "https://localhost:8080/"
        },
        "id": "04IahUSOzOUc",
        "outputId": "eeb5fa3c-8177-4837-f00e-e2d66696928c"
      },
      "execution_count": null,
      "outputs": [
        {
          "output_type": "execute_result",
          "data": {
            "text/plain": [
              "['superable',\n",
              " 'synanthy',\n",
              " 'fomenter',\n",
              " 'interaxillary',\n",
              " 'sorcerously',\n",
              " 'theopaschitally',\n",
              " 'aerohydrotherapy',\n",
              " 'slipslap',\n",
              " 'psychopetal',\n",
              " 'totipalmation']"
            ]
          },
          "metadata": {},
          "execution_count": 39
        }
      ]
    },
    {
      "cell_type": "code",
      "source": [
        "# alphabetical list of first ten\n",
        "alpha_list = sorted(wordlist[:10])\n",
        "alpha_list"
      ],
      "metadata": {
        "colab": {
          "base_uri": "https://localhost:8080/"
        },
        "id": "N3zd4mIWcYjf",
        "outputId": "846c3b0c-2b27-44fe-dd58-4e47046e2eb1"
      },
      "execution_count": null,
      "outputs": [
        {
          "output_type": "execute_result",
          "data": {
            "text/plain": [
              "['aerohydrotherapy',\n",
              " 'fomenter',\n",
              " 'interaxillary',\n",
              " 'psychopetal',\n",
              " 'slipslap',\n",
              " 'sorcerously',\n",
              " 'superable',\n",
              " 'synanthy',\n",
              " 'theopaschitally',\n",
              " 'totipalmation']"
            ]
          },
          "metadata": {},
          "execution_count": 41
        }
      ]
    },
    {
      "cell_type": "code",
      "source": [
        "# how many words start with \"a\"?\n",
        "# alpha_list is supposed to be the entire word list sorted.\n",
        "# note: I got the following function off the Internet: \"word for word in wordlist if word[0] == \"a\"\"\n",
        "# Here is the source: https://stackoverflow.com/questions/61271710/how-do-i-extract-words-from-a-list-that-start-with-a-in-python-i\n",
        "alpha_list = [word for word in wordlist if word[0] == \"a\"]\n",
        "len(alpha_list)"
      ],
      "metadata": {
        "id": "9KnxApP95qWX",
        "colab": {
          "base_uri": "https://localhost:8080/"
        },
        "outputId": "b2bea8fa-1d92-4d80-f598-58331b48edb2"
      },
      "execution_count": null,
      "outputs": [
        {
          "output_type": "execute_result",
          "data": {
            "text/plain": [
              "16982"
            ]
          },
          "metadata": {},
          "execution_count": 12
        }
      ]
    },
    {
      "cell_type": "code",
      "source": [
        "# how many words start with \"q\"?\n",
        "q_list = [word for word in wordlist if word[0] == \"q\"]\n",
        "len(q_list)"
      ],
      "metadata": {
        "colab": {
          "base_uri": "https://localhost:8080/"
        },
        "id": "2fNnLSwnMqwZ",
        "outputId": "bf87b564-70b9-499b-c453-e3be84b333da"
      },
      "execution_count": null,
      "outputs": [
        {
          "output_type": "execute_result",
          "data": {
            "text/plain": [
              "1148"
            ]
          },
          "metadata": {},
          "execution_count": 13
        }
      ]
    },
    {
      "cell_type": "code",
      "source": [
        "# how many words do NOT have the letter \"e\" in them?\n",
        "contains_e_list = [word for word in wordlist if \"e\" in word]\n",
        "len(contains_e_list)\n",
        "print(len(wordlist) - len(contains_e_list))"
      ],
      "metadata": {
        "colab": {
          "base_uri": "https://localhost:8080/"
        },
        "id": "Xo46ur86NZxA",
        "outputId": "db0a39cf-bebb-4139-d723-a475419608a8"
      },
      "execution_count": null,
      "outputs": [
        {
          "output_type": "stream",
          "name": "stdout",
          "text": [
            "76966\n"
          ]
        }
      ]
    },
    {
      "cell_type": "code",
      "source": [
        "# importing numpy\n",
        "import numpy as np\n",
        "np.__version__"
      ],
      "metadata": {
        "colab": {
          "base_uri": "https://localhost:8080/",
          "height": 35
        },
        "id": "J6eb2F-RJOEE",
        "outputId": "7dd6ef3e-f26a-44c5-f330-ad845095230d"
      },
      "execution_count": null,
      "outputs": [
        {
          "output_type": "execute_result",
          "data": {
            "text/plain": [
              "'1.25.2'"
            ],
            "application/vnd.google.colaboratory.intrinsic+json": {
              "type": "string"
            }
          },
          "metadata": {},
          "execution_count": 15
        }
      ]
    },
    {
      "cell_type": "code",
      "source": [
        "# importing numpy\n",
        "import numpy as np\n",
        "np.__version__\n",
        "alphabet = [chr(i) for i in range(ord('a'),ord('z')+1)]\n",
        "# this assigns a number for each letter in the alphabet."
      ],
      "metadata": {
        "id": "bo9DEbdZRoqV"
      },
      "execution_count": null,
      "outputs": []
    },
    {
      "cell_type": "code",
      "source": [
        "# turning our data into an array\n",
        "np.array(wordlist)"
      ],
      "metadata": {
        "colab": {
          "base_uri": "https://localhost:8080/"
        },
        "id": "qR6XLKlQJUHc",
        "outputId": "24c8e10d-2e1f-452b-a6ff-a72acf1ce135"
      },
      "execution_count": null,
      "outputs": [
        {
          "output_type": "execute_result",
          "data": {
            "text/plain": [
              "array(['superable', 'synanthy', 'fomenter', ..., 'unhindered', 'subgape',\n",
              "       'townly'], dtype='<U28')"
            ]
          },
          "metadata": {},
          "execution_count": 16
        }
      ]
    },
    {
      "cell_type": "code",
      "source": [
        "# beginning making the histogram!\n",
        "# note: kyoka's code helped me when figuring out how to make a histogram of my data.\n",
        "# her code helped me with making a histogram based on words sorted by their length. i used that information to help with the rest.\n",
        "  # resource used: https://stackoverflow.com/questions/9101497/matplotlib-bar-graph-x-axis-wont-plot-string-values\n",
        "  # another resource used: https://queirozf.com/entries/matplotlib-examples-plots-with-string-axis-labels\n",
        "  # another resource used: https://www.geeksforgeeks.org/how-to-get-the-number-of-elements-in-a-python-list/\n",
        "  # another resource used: https://stackoverflow.com/questions/2600191/how-do-i-count-the-occurrences-of-a-list-item\n",
        "from collections import Counter\n",
        "letter_list = ([word[0] for word in wordlist])\n",
        "Counter(letter_list)"
      ],
      "metadata": {
        "colab": {
          "base_uri": "https://localhost:8080/"
        },
        "id": "f-34821QSX7m",
        "outputId": "4d03407c-e439-493f-847a-faceb7376b0e"
      },
      "execution_count": null,
      "outputs": [
        {
          "output_type": "execute_result",
          "data": {
            "text/plain": [
              "Counter({'s': 24937,\n",
              "         'f': 6841,\n",
              "         'i': 8787,\n",
              "         't': 12855,\n",
              "         'a': 16982,\n",
              "         'p': 24342,\n",
              "         'b': 10970,\n",
              "         'r': 9618,\n",
              "         'u': 16364,\n",
              "         'g': 6772,\n",
              "         'j': 1604,\n",
              "         'c': 19789,\n",
              "         'd': 10853,\n",
              "         'v': 3418,\n",
              "         'e': 8705,\n",
              "         'm': 12516,\n",
              "         'q': 1148,\n",
              "         'l': 6234,\n",
              "         'w': 3913,\n",
              "         'h': 8997,\n",
              "         'o': 7831,\n",
              "         'n': 6747,\n",
              "         'z': 942,\n",
              "         'k': 2242,\n",
              "         'y': 663,\n",
              "         'x': 380})"
            ]
          },
          "metadata": {},
          "execution_count": 32
        }
      ]
    },
    {
      "cell_type": "code",
      "source": [
        "# finally making a bar chart\n",
        "  # resource used: https://stackoverflow.com/questions/19198920/using-counter-in-python-to-build-histogram\n",
        "  # i used their exact code with slight modifications to accomodate for my bar plot.\n",
        "import matplotlib.pyplot as plt\n",
        "\n",
        "labels, values = zip(*Counter(letter_list).items())\n",
        "# note to self: 'zip' apparently smooshes together variable values.\n",
        "  # https://www.geeksforgeeks.org/zip-in-python/ <--see here? it smooshed the names with the roll numbers.\n",
        "# i can only assume it smooshed together the letters with the values assigned to each letter.\n",
        "\n",
        "indexes = np.arange(len(labels))\n",
        "width = 1\n",
        "\n",
        "plt.bar(indexes, values, width, color=\"#84ADF2\")\n",
        "plt.xticks(indexes + width * 0.5, labels)\n",
        "plt.title(\"Number of words in our list beginning with each letter\")\n",
        "plt.xlabel(\"Letter of the Latin alphabet\")\n",
        "plt.ylabel(\"Number of words\")\n",
        "plt.show()\n"
      ],
      "metadata": {
        "colab": {
          "base_uri": "https://localhost:8080/",
          "height": 472
        },
        "id": "6UjwDwBQK2nY",
        "outputId": "784f9ed4-c57a-485d-9ede-da7b87b2cd50"
      },
      "execution_count": null,
      "outputs": [
        {
          "output_type": "display_data",
          "data": {
            "text/plain": [
              "<Figure size 640x480 with 1 Axes>"
            ],
            "image/png": "[encoded data removed]"
          },
          "metadata": {}
        }
      ]
    },
    {
      "cell_type": "code",
      "source": [
        "# six longest words in the list.\n",
        "# resource used: https://developers.google.com/edu/python/sorting\n",
        "sorted_wordlist_length = sorted(wordlist, key=len, reverse=True)\n",
        "sorted_wordlist_length[:6]"
      ],
      "metadata": {
        "colab": {
          "base_uri": "https://localhost:8080/"
        },
        "id": "VN9RtzNSbMTK",
        "outputId": "6eada1e7-f9f4-45b6-bc69-aa7654ba5f9b"
      },
      "execution_count": null,
      "outputs": [
        {
          "output_type": "execute_result",
          "data": {
            "text/plain": [
              "['antidisestablishmentarianism',\n",
              " 'formaldehydesulphoxylate',\n",
              " 'thyroparathyroidectomize',\n",
              " 'pathologicopsychological',\n",
              " 'scientificophilosophical',\n",
              " 'tetraiodophenolphthalein']"
            ]
          },
          "metadata": {},
          "execution_count": 13
        }
      ]
    },
    {
      "cell_type": "code",
      "source": [
        "# word length histogram\n",
        "\n",
        "import matplotlib.pyplot as plt\n",
        "\n",
        "word_length = [len(word) for word in wordlist]\n",
        "plt.hist(word_length, bins=range(min(word_length), max(word_length) +1),align='left', color=\"#CCCCFF\")\n",
        "\n",
        "plt.title(\"Word lengths histogram\")\n",
        "plt.xlabel(\"Letters in word\")\n",
        "plt.ylabel(\"Number of words in list\")\n",
        "\n",
        "plt.show()"
      ],
      "metadata": {
        "id": "qxp6hcVZu87K",
        "colab": {
          "base_uri": "https://localhost:8080/",
          "height": 472
        },
        "outputId": "1aba4ab6-3a98-46cc-b345-c537df767be2"
      },
      "execution_count": null,
      "outputs": [
        {
          "output_type": "display_data",
          "data": {
            "text/plain": [
              "<Figure size 640x480 with 1 Axes>"
            ],
            "image/png": "[encoded data removed]"
          },
          "metadata": {}
        }
      ]
    },
    {
      "cell_type": "code",
      "source": [
        "# contains \"v\" and \"a\"\n",
        "contains_virginia_list = [word for word in wordlist if \"v\" + \"a\" in word]\n",
        "len(contains_virginia_list)"
      ],
      "metadata": {
        "colab": {
          "base_uri": "https://localhost:8080/"
        },
        "id": "dQT9O0X_SvcI",
        "outputId": "4a9dbc21-e0ec-4000-d858-eb5e2eb2b7e3"
      },
      "execution_count": null,
      "outputs": [
        {
          "output_type": "execute_result",
          "data": {
            "text/plain": [
              "3176"
            ]
          },
          "metadata": {},
          "execution_count": 10
        }
      ]
    },
    {
      "cell_type": "code",
      "source": [
        "# contains \"w\" and \"l\"\n",
        "contains_wallaby_list = [word for word in wordlist if \"w\" + \"l\" in word]\n",
        "len(contains_wallaby_list)"
      ],
      "metadata": {
        "colab": {
          "base_uri": "https://localhost:8080/"
        },
        "id": "sDVrK4hUTKcq",
        "outputId": "27fc4f5d-7cd4-4f69-d09e-baea3acadb4b"
      },
      "execution_count": null,
      "outputs": [
        {
          "output_type": "execute_result",
          "data": {
            "text/plain": [
              "372"
            ]
          },
          "metadata": {},
          "execution_count": 11
        }
      ]
    },
    {
      "cell_type": "markdown",
      "source": [
        "**Bonus**"
      ],
      "metadata": {
        "id": "BtH5insISsDY"
      }
    },
    {
      "cell_type": "code",
      "source": [
        "# perhaps it's too late..."
      ],
      "metadata": {
        "id": "QquREeTWaZ0W"
      },
      "execution_count": null,
      "outputs": []
    }
  ]
}