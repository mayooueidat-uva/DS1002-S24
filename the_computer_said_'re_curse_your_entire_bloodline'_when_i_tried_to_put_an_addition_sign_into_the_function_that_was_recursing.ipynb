{
  "nbformat": 4,
  "nbformat_minor": 0,
  "metadata": {
    "colab": {
      "provenance": [],
      "include_colab_link": true
    },
    "kernelspec": {
      "name": "python3",
      "display_name": "Python 3"
    },
    "language_info": {
      "name": "python"
    }
  },
  "cells": [
    {
      "cell_type": "markdown",
      "metadata": {
        "id": "view-in-github",
        "colab_type": "text"
      },
      "source": [
        "<a href=\"https://colab.research.google.com/github/mayooueidat-uva/DS1002-S24/blob/main/the_computer_said_'re_curse_your_entire_bloodline'_when_i_tried_to_put_an_addition_sign_into_the_function_that_was_recursing.ipynb\" target=\"_parent\"><img src=\"https://colab.research.google.com/assets/colab-badge.svg\" alt=\"Open In Colab\"/></a>"
      ]
    },
    {
      "cell_type": "markdown",
      "source": [
        "## Assignment 11\n",
        "Due Monday 15 April at noon"
      ],
      "metadata": {
        "id": "y6mGkyWrqph3"
      }
    },
    {
      "cell_type": "markdown",
      "source": [
        "### List comprehension\n",
        "\n",
        "Many of you resisted my recommendation to use list comprehensions in the previous assignment, and so my hand is forced.  You made me require it.\n",
        "\n",
        "\n",
        "Problem 1.  For each function you write below, you may assume the list being sent to the function will contain the appropriate data type.\n",
        "\n",
        "Use list comprehensions to create a function that will take a list `l` and return . . ."
      ],
      "metadata": {
        "id": "eBJulsWBngse"
      }
    },
    {
      "cell_type": "markdown",
      "source": [
        "(a) . . . a list containing the absolute value of each element of `l`"
      ],
      "metadata": {
        "id": "1h4hKDEqo5T_"
      }
    },
    {
      "cell_type": "code",
      "source": [
        "l = [-10, -9, -5, 0, 1, 2, 3, 53]\n",
        "absolute_values = []\n",
        "for val in l:\n",
        "  absolute_values.append(abs(val))\n",
        "\n",
        "absolute_values"
      ],
      "metadata": {
        "id": "LNltsHhtngLS",
        "colab": {
          "base_uri": "https://localhost:8080/"
        },
        "outputId": "e96cd8d9-763f-49f0-c5fd-03788523c248"
      },
      "execution_count": 12,
      "outputs": [
        {
          "output_type": "execute_result",
          "data": {
            "text/plain": [
              "[10, 9, 5, 0, 1, 2, 3, 53]"
            ]
          },
          "metadata": {},
          "execution_count": 12
        }
      ]
    },
    {
      "cell_type": "markdown",
      "source": [
        "(b) . . . a list containing `True` for each even number in `l` and `False` for each odd number in `l`"
      ],
      "metadata": {
        "id": "mqIbzaTvpLCV"
      }
    },
    {
      "cell_type": "code",
      "source": [
        "# look familiar?\n",
        "l = [1, 5, 6, 8, 12, 15]\n",
        "is_even = []\n",
        "\n",
        "for val in l:\n",
        "    if val % 2: # if remainder is one, val is not even\n",
        "        is_even.append(False)\n",
        "    else:       # else it's even\n",
        "        is_even.append(True)\n",
        "\n",
        "is_even"
      ],
      "metadata": {
        "id": "0OTpQFX9pK0t",
        "colab": {
          "base_uri": "https://localhost:8080/"
        },
        "outputId": "44d56cd9-df93-4402-abda-2fde16408726"
      },
      "execution_count": 13,
      "outputs": [
        {
          "output_type": "execute_result",
          "data": {
            "text/plain": [
              "[False, False, True, True, True, False]"
            ]
          },
          "metadata": {},
          "execution_count": 13
        }
      ]
    },
    {
      "cell_type": "markdown",
      "source": [
        "(c) . . . a list containing only the numbers in `l` that are divisible by 3"
      ],
      "metadata": {
        "id": "9yqVg2hApUY9"
      }
    },
    {
      "cell_type": "code",
      "source": [
        "# resource: https://www.learndatasci.com/solutions/python-pass/\n",
        "l = [1, 3, 4, 5, 6, 47, 51, 81, 243, 999]\n",
        "divisible_by_three = []\n",
        "\n",
        "for val in l:\n",
        "  if val % 3:\n",
        "    pass\n",
        "  else:\n",
        "    divisible_by_three.append(val)\n",
        "\n",
        "divisible_by_three"
      ],
      "metadata": {
        "id": "2mP_1aYZpUF4",
        "colab": {
          "base_uri": "https://localhost:8080/"
        },
        "outputId": "6840e07a-2acc-4fe7-a87b-067202d423f1"
      },
      "execution_count": 14,
      "outputs": [
        {
          "output_type": "execute_result",
          "data": {
            "text/plain": [
              "[3, 6, 51, 81, 243, 999]"
            ]
          },
          "metadata": {},
          "execution_count": 14
        }
      ]
    },
    {
      "cell_type": "markdown",
      "source": [
        "(d) . . . a list containing only the words in `l` whose first and last letters are the same"
      ],
      "metadata": {
        "id": "2yClgYZupef1"
      }
    },
    {
      "cell_type": "code",
      "source": [
        "l = [\"aerodynamic\", \"agoraphobia\", \"anaesthesia\", \"disestablishmentarianism\", \"reminiscence\"]\n",
        "first_letter_of_vowelend = []\n",
        "for val in l:\n",
        "  if val[-1] == val[0]:\n",
        "    first_letter_of_vowelend.append(val)\n",
        "\n",
        "first_letter_of_vowelend"
      ],
      "metadata": {
        "id": "-l7XnemMpeCi",
        "colab": {
          "base_uri": "https://localhost:8080/"
        },
        "outputId": "b0047e28-9a52-46d0-d92f-526785e0949d"
      },
      "execution_count": 15,
      "outputs": [
        {
          "output_type": "execute_result",
          "data": {
            "text/plain": [
              "['agoraphobia', 'anaesthesia']"
            ]
          },
          "metadata": {},
          "execution_count": 15
        }
      ]
    },
    {
      "cell_type": "markdown",
      "source": [
        "(e) . . . a list containing the first letter of each word in `l` that ends with a vowel"
      ],
      "metadata": {
        "id": "1mqMysFKppZS"
      }
    },
    {
      "cell_type": "code",
      "source": [
        "l = [\"aerodynamic\", \"agoraphobia\", \"anaesthesia\", \"disestablishmentarianism\", \"reminiscence\"]\n",
        "first_letter_of_vowelend = []\n",
        "for val in l:\n",
        "  if val[-1] in [\"a\", \"e\", \"i\", \"o\", \"u\"]:\n",
        "    first_letter_of_vowelend.append(val[0])\n",
        "\n",
        "first_letter_of_vowelend"
      ],
      "metadata": {
        "id": "1Gi3andbppDc",
        "colab": {
          "base_uri": "https://localhost:8080/"
        },
        "outputId": "19ec3e5d-ba74-45c0-9b57-bf975fb46d2a"
      },
      "execution_count": 16,
      "outputs": [
        {
          "output_type": "execute_result",
          "data": {
            "text/plain": [
              "['a', 'a', 'r']"
            ]
          },
          "metadata": {},
          "execution_count": 16
        }
      ]
    },
    {
      "cell_type": "markdown",
      "source": [
        "### Multiplication as a recursive process\n",
        "Problem 2.  Write a recursive function that computes the product of two positive integers `a` and `b` by adding `a` to itself `b` times.\n",
        "\n",
        "Hints:  \n",
        "1. if `b=1` then the product is `a`.\n",
        "2. if `b>1` then the product is what you get by adding `a` to `a * (b-1)`.\n",
        "\n",
        "Note:  the purpose of this exercise is to practice writing recursive functions.  Of course you can trivially ask for `a*b` and get the correct answer but that is worth no points.  Your function should not use any multiplications.\n"
      ],
      "metadata": {
        "id": "iV4ysawxjsiE"
      }
    },
    {
      "cell_type": "code",
      "execution_count": 31,
      "metadata": {
        "id": "wc9Y1d7ejrvH",
        "colab": {
          "base_uri": "https://localhost:8080/"
        },
        "outputId": "6f7e3b4e-83af-4509-93d4-f270021839c8"
      },
      "outputs": [
        {
          "output_type": "execute_result",
          "data": {
            "text/plain": [
              "30"
            ]
          },
          "metadata": {},
          "execution_count": 31
        }
      ],
      "source": [
        "# RE-CURSE YOU!! RE-CURSE YOU AND YOUR ENTIRE BLOODLINE,\n",
        "# YOU SON OF A FUNCTION.\n",
        "def a_times_b(a, b):\n",
        "  for x in range(b):\n",
        "    if (b == 1):\n",
        "      return a\n",
        "    else:\n",
        "      return (a_times_b(a, b-1)) + a\n",
        "\n",
        "a_times_b(10, 3)"
      ]
    },
    {
      "cell_type": "code",
      "source": [
        "### MORE TEST RUNS ###\n",
        "a_times_b(10, 4)"
      ],
      "metadata": {
        "colab": {
          "base_uri": "https://localhost:8080/"
        },
        "id": "s0ZHhf-UgiHU",
        "outputId": "3912c29a-f4d5-4055-ecad-cc9474d0dbc4"
      },
      "execution_count": 32,
      "outputs": [
        {
          "output_type": "execute_result",
          "data": {
            "text/plain": [
              "40"
            ]
          },
          "metadata": {},
          "execution_count": 32
        }
      ]
    },
    {
      "cell_type": "code",
      "source": [
        "a_times_b(5, 4)"
      ],
      "metadata": {
        "colab": {
          "base_uri": "https://localhost:8080/"
        },
        "id": "exac4n5Zgmij",
        "outputId": "6db4a5ae-c298-46a9-fa79-c742f6d994df"
      },
      "execution_count": 33,
      "outputs": [
        {
          "output_type": "execute_result",
          "data": {
            "text/plain": [
              "20"
            ]
          },
          "metadata": {},
          "execution_count": 33
        }
      ]
    },
    {
      "cell_type": "code",
      "source": [
        "a_times_b(3, 3)"
      ],
      "metadata": {
        "colab": {
          "base_uri": "https://localhost:8080/"
        },
        "id": "jEUNP5XjgpM2",
        "outputId": "2572d53a-db09-4405-ed0e-9d47c01b5dc1"
      },
      "execution_count": 34,
      "outputs": [
        {
          "output_type": "execute_result",
          "data": {
            "text/plain": [
              "9"
            ]
          },
          "metadata": {},
          "execution_count": 34
        }
      ]
    },
    {
      "cell_type": "markdown",
      "source": [
        "### Division as a recursive process\n",
        "\n",
        "Problem 3:  Write a recursive function that takes two positive integers `a` and `b` and returns the quotient `q` and remainder `r` obtained when `a` is divided by `b`.\n",
        "\n",
        "Hints:  \n",
        "1. If `a<b` then what should `q` and `r` be?\n",
        "\n",
        "2. If `a>b` then think about how `q` and `r` are related to the values you would get from dividing `a-b` by `b`."
      ],
      "metadata": {
        "id": "A5xI1LxDkxn0"
      }
    },
    {
      "cell_type": "code",
      "source": [
        "# for (a-b)/b...\n",
        "# r approaches q as a and b approach infinity.\n",
        "# that's scary to me as i don't want an infinitely recursive function."
      ],
      "metadata": {
        "id": "v5W8aUdgKAJQ"
      },
      "execution_count": 45,
      "outputs": []
    },
    {
      "cell_type": "code",
      "source": [
        "# i asked chatgpt the following question:\n",
        "# 'how can division be recursive in python?'\n",
        "# this is what it told me:\n",
        "'''\n",
        "Division can be implemented recursively in Python by repeatedly\n",
        "subtracting the divisor from the dividend until the dividend\n",
        "becomes less than the divisor.\n",
        "'''\n",
        "# it gave me a 'simple implementation recursion in divison' function.\n",
        "# i wish to appropriate this function to help me.\n",
        "\n",
        "# it looks like what i need to do is:\n",
        "# ...well, here's a ratio: (dividend - divisor):(divisor)\n",
        "# this ratio needs to approach one. ^"
      ],
      "metadata": {
        "id": "I1q3Y-DmTpW6"
      },
      "execution_count": null,
      "outputs": []
    },
    {
      "cell_type": "code",
      "source": [
        "# draft based on the function it gave me.\n",
        "# here's the function it gave me:\n",
        "'''\n",
        "def recursive_divide(dividend, divisor):\n",
        "    # Base case: if dividend is less than divisor, return 0\n",
        "    if dividend < divisor:\n",
        "        return 0\n",
        "    # Recursive case: subtract divisor from dividend and call function recursively\n",
        "    return 1 + recursive_divide(dividend - divisor, divisor)\n",
        "'''\n",
        "def divide_draft(a, b):\n",
        "  if a < b:\n",
        "    return 0\n",
        "  return 1 + divide_draft(a-b, b)\n",
        "divide_draft(4, 3)"
      ],
      "metadata": {
        "colab": {
          "base_uri": "https://localhost:8080/"
        },
        "id": "sA5dJ6HZVtc8",
        "outputId": "a36a86e4-49f0-4297-ba12-6e204f035f75"
      },
      "execution_count": 166,
      "outputs": [
        {
          "output_type": "execute_result",
          "data": {
            "text/plain": [
              "1"
            ]
          },
          "metadata": {},
          "execution_count": 166
        }
      ]
    },
    {
      "cell_type": "code",
      "source": [
        "# AT LONG LAST. IT IS 3:31 AM.\n",
        "# Division recursive function\n",
        "def q_and_r(a, b):\n",
        "  def a_divided_b(a, b):\n",
        "    for x in range(b):\n",
        "      if a < b:\n",
        "        return 0\n",
        "      return (1 + a_divided_b(a-b, b))\n",
        "  print(\"q =\", a_divided_b(a, b))\n",
        "  print(\"r =\", a%b)\n",
        "\n",
        "q_and_r(11, 3)"
      ],
      "metadata": {
        "id": "_3aRmkgJkxUW",
        "colab": {
          "base_uri": "https://localhost:8080/"
        },
        "outputId": "e60ecf34-7a1c-4c9a-e809-25017b89a531"
      },
      "execution_count": 157,
      "outputs": [
        {
          "output_type": "stream",
          "name": "stdout",
          "text": [
            "q = 3\n",
            "r = 2\n"
          ]
        }
      ]
    },
    {
      "cell_type": "code",
      "source": [
        "### TEST RUNS ###\n",
        "q_and_r(10, 4)"
      ],
      "metadata": {
        "colab": {
          "base_uri": "https://localhost:8080/"
        },
        "id": "hjNvVoURq6Wg",
        "outputId": "514c24f7-6e7f-44d8-b1b1-5bd250b6300f"
      },
      "execution_count": 165,
      "outputs": [
        {
          "output_type": "stream",
          "name": "stdout",
          "text": [
            "q = 2\n",
            "r = 2\n"
          ]
        }
      ]
    },
    {
      "cell_type": "code",
      "source": [
        "q_and_r(999, 4)"
      ],
      "metadata": {
        "colab": {
          "base_uri": "https://localhost:8080/"
        },
        "id": "ViwGw_vBrCIE",
        "outputId": "3e576978-2576-488c-ea9d-09f00b8f492c"
      },
      "execution_count": 159,
      "outputs": [
        {
          "output_type": "stream",
          "name": "stdout",
          "text": [
            "q = 249\n",
            "r = 3\n"
          ]
        }
      ]
    },
    {
      "cell_type": "code",
      "source": [
        "q_and_r(35689, 35679)"
      ],
      "metadata": {
        "colab": {
          "base_uri": "https://localhost:8080/"
        },
        "id": "_xSNuNrxrGLh",
        "outputId": "68e95692-eef7-4bac-bfc1-1f21023296b6"
      },
      "execution_count": 162,
      "outputs": [
        {
          "output_type": "stream",
          "name": "stdout",
          "text": [
            "q = 1\n",
            "r = 10\n"
          ]
        }
      ]
    },
    {
      "cell_type": "code",
      "source": [
        "q_and_r(35679, 35689)"
      ],
      "metadata": {
        "colab": {
          "base_uri": "https://localhost:8080/"
        },
        "id": "Bb-o14dzrSI5",
        "outputId": "bc207506-c495-4283-aa61-2aedcab5715d"
      },
      "execution_count": 163,
      "outputs": [
        {
          "output_type": "stream",
          "name": "stdout",
          "text": [
            "q = 0\n",
            "r = 35679\n"
          ]
        }
      ]
    },
    {
      "cell_type": "code",
      "source": [
        "q_and_r(5, 5)"
      ],
      "metadata": {
        "colab": {
          "base_uri": "https://localhost:8080/"
        },
        "id": "1Hmc8FK2rWLJ",
        "outputId": "425868d5-e3f1-4ee9-e5e6-1c469730c4ab"
      },
      "execution_count": 164,
      "outputs": [
        {
          "output_type": "stream",
          "name": "stdout",
          "text": [
            "q = 1\n",
            "r = 0\n"
          ]
        }
      ]
    },
    {
      "cell_type": "markdown",
      "source": [
        "### The dot product of two vectors\n",
        "\n",
        "Problem 4.  Write a recursive function `dot()` that takes two lists of numbers, of equal length, and returns the sum of the products of the elements of the same index from each list. For example, if `V=[1,2,3]` and `W=[4,5,6]` then the function should return the value $(1 \\cdot 4) + (2\\cdot 5) + (3\\cdot 6)$, which equals 32.  In physics and linear algebra, this is called the \"dot product\" of the vectors `V` and `W`.\n",
        "\n",
        "Other examples:\n",
        "```\n",
        "dot([3],[4])\n",
        "12\n",
        "\n",
        "dot([1,1,0],[2,7,17])\n",
        "9\n",
        "```\n",
        "Hints:\n",
        "1. How is `dot(V,W)` related to `dot(V[1:],W[1:])`?\n",
        "2. What should happen if the lists are empty?"
      ],
      "metadata": {
        "id": "OkBK7gvglJ3u"
      }
    },
    {
      "cell_type": "code",
      "source": [
        "# my intuition was that our function would be like:\n",
        "  # (val_1[n]*val_2[n]) + (val_1[n+1]*val_2[n+1]...) = output. do that r times.\n",
        "# so i enlisted chatgpt to give me a rough idea on how to pull that off.\n",
        " # 'tell me again. how do you write a dot product function in python?'\n",
        " # its reply:\n",
        "'''\n",
        "def dot_product(vector1, vector2):\n",
        "    # Check if the length of both vectors is the same\n",
        "    if len(vector1) != len(vector2):\n",
        "        raise ValueError(\"Vectors must have the same length\")\n",
        "    # Initialize the dot product variable\n",
        "    result = 0\n",
        "\n",
        "    # Iterate through the vectors and calculate the dot product\n",
        "    for i in range(len(vector1)):\n",
        "        result += vector1[i] * vector2[i]\n",
        "    return result\n",
        "'''\n",
        "# its example usage also surprised me. it seemed like a lot of steps to print\n",
        "# the function.\n",
        "'''# Example usage\n",
        "vector1 = [1, 2, 3]\n",
        "vector2 = [4, 5, 6]\n",
        "result = dot_product(vector1, vector2)\n",
        "print(result)\n",
        "'''\n",
        "# i will draft a draft function based on this."
      ],
      "metadata": {
        "id": "kif5XPzT4imB"
      },
      "execution_count": null,
      "outputs": []
    },
    {
      "cell_type": "code",
      "source": [
        "# draft dot product function\n",
        "def draft_dot(v, w):\n",
        "  result = 0\n",
        "  for i in range(len(w)):\n",
        "    result += v[i]*w[i]\n",
        "  return result\n",
        "# note: the 'result +=' is something i tried on the first recursive function\n",
        "# i defined on an earlier draft of this notebook. it's a sum function of sorts.\n",
        "# it allows us to add different outputs of our function all in one for-loop.\n",
        "# at least that's how i understand it.\n",
        "v = [1, 4, 5, 6, 7]\n",
        "w = [5, 6, 1, 2, 3]\n",
        "result = draft_dot(v, w)\n",
        "print(result)\n",
        "# seems to have worked.\n",
        "# now i have to turn this into an recursing function of sorts."
      ],
      "metadata": {
        "colab": {
          "base_uri": "https://localhost:8080/"
        },
        "id": "LPm56fut4iXI",
        "outputId": "cea1b122-c25a-44ec-9802-92916b3eeeab"
      },
      "execution_count": 170,
      "outputs": [
        {
          "output_type": "stream",
          "name": "stdout",
          "text": [
            "67\n"
          ]
        }
      ]
    },
    {
      "cell_type": "code",
      "source": [
        "# what we want to do\n",
        "  # (val_1[n]*val_2[n]) + (val_1[n+1]*val_2[n+1]...) = output. do that r times.\n",
        "  # we need one variable for the length of the list\n",
        "    #(this is the number of times things will be added together),\n",
        "  # and one variable for the position in the list.\n",
        "    #(these are the values of the actual numbers being multiplied together.)\n",
        "\n",
        "# so basically...\n",
        "  # n HAS to equal value in a spot in the list.\n",
        "  # r HAS to equal the length of a list."
      ],
      "metadata": {
        "id": "idqVME81YYui"
      },
      "execution_count": null,
      "outputs": []
    },
    {
      "cell_type": "code",
      "source": [
        "v = [1, 3, 4, 5, 6, 8]\n",
        "w = [1, 2, 3, 4, 8, 9]\n",
        "def dot(v, w):\n",
        "  n = v[-(len(w))]\n",
        "  for n in range(len(w)):\n",
        "    return w[n]*v[n] + w[n+1]*v[n+1]\n",
        "\n",
        "  return dot(v-1, w-1) + dot(v-2, w-2)\n",
        "\n",
        "dot(v, w)\n",
        "# it ain't recursing.\n",
        "# it's giving me the dot product of only the first two entries on the list."
      ],
      "metadata": {
        "id": "LZXs6lkslJqm",
        "colab": {
          "base_uri": "https://localhost:8080/"
        },
        "outputId": "7d00bc2a-90c5-44ae-fcf2-1fafca5d196a"
      },
      "execution_count": 175,
      "outputs": [
        {
          "output_type": "execute_result",
          "data": {
            "text/plain": [
              "7"
            ]
          },
          "metadata": {},
          "execution_count": 175
        }
      ]
    }
  ]
}